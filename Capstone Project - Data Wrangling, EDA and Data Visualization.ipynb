{
 "cells": [
  {
   "cell_type": "markdown",
   "metadata": {},
   "source": [
    "Exploratory Data analysis and Data visualization: TalkingData Mobile User Demographics\n",
    "\n",
    "The data is obtained from the ongoing Kaggle Competition:\n",
    "\n",
    "https://www.kaggle.com/c/talkingdata-mobile-user-demographics/data\n",
    "\n",
    "Objective:\n",
    "\n",
    "The overall goal of this ipython notebook serves as a exploratory analysis for the capstone project. Data Exploration has been performed to uncover interesting insights from the data at hand. Extensive Data munging and wrangling has been done to get the data in a format needed for further analysis. Data aggregation, merging different datasets, dealing with the chinese names and missing values have been performed. Feature engineering has been carried out so that new features can be used to built the models. Finally, Data visualizations has been used to tell a story with the data and get a better understanding of the TalkingData users.\n"
   ]
  },
  {
   "cell_type": "code",
   "execution_count": 7,
   "metadata": {
    "collapsed": true
   },
   "outputs": [],
   "source": [
    "import numpy as np"
   ]
  },
  {
   "cell_type": "code",
   "execution_count": 8,
   "metadata": {
    "collapsed": true
   },
   "outputs": [],
   "source": [
    "import pandas as pd"
   ]
  },
  {
   "cell_type": "code",
   "execution_count": 9,
   "metadata": {
    "collapsed": true
   },
   "outputs": [],
   "source": [
    "import seaborn as sns"
   ]
  },
  {
   "cell_type": "code",
   "execution_count": 10,
   "metadata": {
    "collapsed": true
   },
   "outputs": [],
   "source": [
    "import matplotlib.pyplot as plt"
   ]
  },
  {
   "cell_type": "code",
   "execution_count": 11,
   "metadata": {
    "collapsed": true
   },
   "outputs": [],
   "source": [
    "%matplotlib inline"
   ]
  },
  {
   "cell_type": "code",
   "execution_count": 65,
   "metadata": {
    "collapsed": true
   },
   "outputs": [],
   "source": [
    "app_events= pd.read_csv('/Users/Adiii/Documents/Springboard/Capstone Project/app_events.csv')"
   ]
  },
  {
   "cell_type": "code",
   "execution_count": 66,
   "metadata": {
    "collapsed": false
   },
   "outputs": [
    {
     "data": {
      "text/html": [
       "<div>\n",
       "<table border=\"1\" class=\"dataframe\">\n",
       "  <thead>\n",
       "    <tr style=\"text-align: right;\">\n",
       "      <th></th>\n",
       "      <th>event_id</th>\n",
       "      <th>app_id</th>\n",
       "      <th>is_installed</th>\n",
       "      <th>is_active</th>\n",
       "    </tr>\n",
       "  </thead>\n",
       "  <tbody>\n",
       "    <tr>\n",
       "      <th>0</th>\n",
       "      <td>2</td>\n",
       "      <td>5927333115845830913</td>\n",
       "      <td>1</td>\n",
       "      <td>1</td>\n",
       "    </tr>\n",
       "    <tr>\n",
       "      <th>1</th>\n",
       "      <td>2</td>\n",
       "      <td>-5720078949152207372</td>\n",
       "      <td>1</td>\n",
       "      <td>0</td>\n",
       "    </tr>\n",
       "    <tr>\n",
       "      <th>2</th>\n",
       "      <td>2</td>\n",
       "      <td>-1633887856876571208</td>\n",
       "      <td>1</td>\n",
       "      <td>0</td>\n",
       "    </tr>\n",
       "    <tr>\n",
       "      <th>3</th>\n",
       "      <td>2</td>\n",
       "      <td>-653184325010919369</td>\n",
       "      <td>1</td>\n",
       "      <td>1</td>\n",
       "    </tr>\n",
       "    <tr>\n",
       "      <th>4</th>\n",
       "      <td>2</td>\n",
       "      <td>8693964245073640147</td>\n",
       "      <td>1</td>\n",
       "      <td>1</td>\n",
       "    </tr>\n",
       "  </tbody>\n",
       "</table>\n",
       "</div>"
      ],
      "text/plain": [
       "   event_id               app_id  is_installed  is_active\n",
       "0         2  5927333115845830913             1          1\n",
       "1         2 -5720078949152207372             1          0\n",
       "2         2 -1633887856876571208             1          0\n",
       "3         2  -653184325010919369             1          1\n",
       "4         2  8693964245073640147             1          1"
      ]
     },
     "execution_count": 66,
     "metadata": {},
     "output_type": "execute_result"
    }
   ],
   "source": [
    "app_events.head()"
   ]
  },
  {
   "cell_type": "code",
   "execution_count": 67,
   "metadata": {
    "collapsed": false
   },
   "outputs": [],
   "source": [
    "applabels=pd.read_csv('/Users/Adiii/Documents/Springboard/Capstone Project/app_labels.csv')"
   ]
  },
  {
   "cell_type": "code",
   "execution_count": 68,
   "metadata": {
    "collapsed": true
   },
   "outputs": [],
   "source": [
    "gamescat=pd.read_csv('/Users/Adiii/Documents/Springboard/Capstone Project/label_categories.csv')"
   ]
  },
  {
   "cell_type": "code",
   "execution_count": 69,
   "metadata": {
    "collapsed": true
   },
   "outputs": [],
   "source": [
    "applabcat=pd.merge(applabels,gamescat,on='label_id',how='left')"
   ]
  },
  {
   "cell_type": "code",
   "execution_count": 70,
   "metadata": {
    "collapsed": false
   },
   "outputs": [
    {
     "data": {
      "text/html": [
       "<div>\n",
       "<table border=\"1\" class=\"dataframe\">\n",
       "  <thead>\n",
       "    <tr style=\"text-align: right;\">\n",
       "      <th></th>\n",
       "      <th>app_id</th>\n",
       "      <th>label_id</th>\n",
       "      <th>category</th>\n",
       "    </tr>\n",
       "  </thead>\n",
       "  <tbody>\n",
       "    <tr>\n",
       "      <th>0</th>\n",
       "      <td>7324884708820027918</td>\n",
       "      <td>251</td>\n",
       "      <td>Finance</td>\n",
       "    </tr>\n",
       "    <tr>\n",
       "      <th>1</th>\n",
       "      <td>-4494216993218550286</td>\n",
       "      <td>251</td>\n",
       "      <td>Finance</td>\n",
       "    </tr>\n",
       "    <tr>\n",
       "      <th>2</th>\n",
       "      <td>6058196446775239644</td>\n",
       "      <td>406</td>\n",
       "      <td>unknown</td>\n",
       "    </tr>\n",
       "    <tr>\n",
       "      <th>3</th>\n",
       "      <td>6058196446775239644</td>\n",
       "      <td>407</td>\n",
       "      <td>DS_P2P net loan</td>\n",
       "    </tr>\n",
       "    <tr>\n",
       "      <th>4</th>\n",
       "      <td>8694625920731541625</td>\n",
       "      <td>406</td>\n",
       "      <td>unknown</td>\n",
       "    </tr>\n",
       "  </tbody>\n",
       "</table>\n",
       "</div>"
      ],
      "text/plain": [
       "                app_id  label_id         category\n",
       "0  7324884708820027918       251          Finance\n",
       "1 -4494216993218550286       251          Finance\n",
       "2  6058196446775239644       406          unknown\n",
       "3  6058196446775239644       407  DS_P2P net loan\n",
       "4  8694625920731541625       406          unknown"
      ]
     },
     "execution_count": 70,
     "metadata": {},
     "output_type": "execute_result"
    }
   ],
   "source": [
    "applabcat.head()"
   ]
  },
  {
   "cell_type": "code",
   "execution_count": 78,
   "metadata": {
    "collapsed": true
   },
   "outputs": [],
   "source": [
    "app_events=app_events.astype(int)"
   ]
  },
  {
   "cell_type": "code",
   "execution_count": 79,
   "metadata": {
    "collapsed": false
   },
   "outputs": [
    {
     "data": {
      "text/html": [
       "<div>\n",
       "<table border=\"1\" class=\"dataframe\">\n",
       "  <thead>\n",
       "    <tr style=\"text-align: right;\">\n",
       "      <th></th>\n",
       "      <th>event_id</th>\n",
       "      <th>app_id</th>\n",
       "      <th>is_active</th>\n",
       "    </tr>\n",
       "  </thead>\n",
       "  <tbody>\n",
       "    <tr>\n",
       "      <th>count</th>\n",
       "      <td>3.247307e+07</td>\n",
       "      <td>3.247307e+07</td>\n",
       "      <td>3.247307e+07</td>\n",
       "    </tr>\n",
       "    <tr>\n",
       "      <th>mean</th>\n",
       "      <td>1.625564e+06</td>\n",
       "      <td>1.182779e+18</td>\n",
       "      <td>3.921094e-01</td>\n",
       "    </tr>\n",
       "    <tr>\n",
       "      <th>std</th>\n",
       "      <td>9.384682e+05</td>\n",
       "      <td>5.360173e+18</td>\n",
       "      <td>4.882209e-01</td>\n",
       "    </tr>\n",
       "    <tr>\n",
       "      <th>min</th>\n",
       "      <td>2.000000e+00</td>\n",
       "      <td>-9.221157e+18</td>\n",
       "      <td>0.000000e+00</td>\n",
       "    </tr>\n",
       "    <tr>\n",
       "      <th>25%</th>\n",
       "      <td>8.134720e+05</td>\n",
       "      <td>-3.474568e+18</td>\n",
       "      <td>0.000000e+00</td>\n",
       "    </tr>\n",
       "    <tr>\n",
       "      <th>50%</th>\n",
       "      <td>1.626907e+06</td>\n",
       "      <td>1.387044e+18</td>\n",
       "      <td>0.000000e+00</td>\n",
       "    </tr>\n",
       "    <tr>\n",
       "      <th>75%</th>\n",
       "      <td>2.441106e+06</td>\n",
       "      <td>6.043001e+18</td>\n",
       "      <td>1.000000e+00</td>\n",
       "    </tr>\n",
       "    <tr>\n",
       "      <th>max</th>\n",
       "      <td>3.252948e+06</td>\n",
       "      <td>9.222488e+18</td>\n",
       "      <td>1.000000e+00</td>\n",
       "    </tr>\n",
       "  </tbody>\n",
       "</table>\n",
       "</div>"
      ],
      "text/plain": [
       "           event_id        app_id     is_active\n",
       "count  3.247307e+07  3.247307e+07  3.247307e+07\n",
       "mean   1.625564e+06  1.182779e+18  3.921094e-01\n",
       "std    9.384682e+05  5.360173e+18  4.882209e-01\n",
       "min    2.000000e+00 -9.221157e+18  0.000000e+00\n",
       "25%    8.134720e+05 -3.474568e+18  0.000000e+00\n",
       "50%    1.626907e+06  1.387044e+18  0.000000e+00\n",
       "75%    2.441106e+06  6.043001e+18  1.000000e+00\n",
       "max    3.252948e+06  9.222488e+18  1.000000e+00"
      ]
     },
     "execution_count": 79,
     "metadata": {},
     "output_type": "execute_result"
    }
   ],
   "source": [
    "app_events.describe()"
   ]
  },
  {
   "cell_type": "code",
   "execution_count": 73,
   "metadata": {
    "collapsed": false
   },
   "outputs": [
    {
     "data": {
      "text/html": [
       "<div>\n",
       "<table border=\"1\" class=\"dataframe\">\n",
       "  <thead>\n",
       "    <tr style=\"text-align: right;\">\n",
       "      <th></th>\n",
       "      <th>event_id</th>\n",
       "      <th>app_id</th>\n",
       "      <th>is_installed</th>\n",
       "      <th>is_active</th>\n",
       "    </tr>\n",
       "  </thead>\n",
       "  <tbody>\n",
       "    <tr>\n",
       "      <th>0</th>\n",
       "      <td>2</td>\n",
       "      <td>5927333115845830913</td>\n",
       "      <td>1</td>\n",
       "      <td>1</td>\n",
       "    </tr>\n",
       "    <tr>\n",
       "      <th>1</th>\n",
       "      <td>2</td>\n",
       "      <td>-5720078949152207372</td>\n",
       "      <td>1</td>\n",
       "      <td>0</td>\n",
       "    </tr>\n",
       "    <tr>\n",
       "      <th>2</th>\n",
       "      <td>2</td>\n",
       "      <td>-1633887856876571208</td>\n",
       "      <td>1</td>\n",
       "      <td>0</td>\n",
       "    </tr>\n",
       "    <tr>\n",
       "      <th>3</th>\n",
       "      <td>2</td>\n",
       "      <td>-653184325010919369</td>\n",
       "      <td>1</td>\n",
       "      <td>1</td>\n",
       "    </tr>\n",
       "    <tr>\n",
       "      <th>4</th>\n",
       "      <td>2</td>\n",
       "      <td>8693964245073640147</td>\n",
       "      <td>1</td>\n",
       "      <td>1</td>\n",
       "    </tr>\n",
       "  </tbody>\n",
       "</table>\n",
       "</div>"
      ],
      "text/plain": [
       "   event_id               app_id  is_installed  is_active\n",
       "0         2  5927333115845830913             1          1\n",
       "1         2 -5720078949152207372             1          0\n",
       "2         2 -1633887856876571208             1          0\n",
       "3         2  -653184325010919369             1          1\n",
       "4         2  8693964245073640147             1          1"
      ]
     },
     "execution_count": 73,
     "metadata": {},
     "output_type": "execute_result"
    }
   ],
   "source": [
    "app_events.head()"
   ]
  },
  {
   "cell_type": "code",
   "execution_count": 74,
   "metadata": {
    "collapsed": false
   },
   "outputs": [
    {
     "data": {
      "text/html": [
       "<div>\n",
       "<table border=\"1\" class=\"dataframe\">\n",
       "  <thead>\n",
       "    <tr style=\"text-align: right;\">\n",
       "      <th></th>\n",
       "      <th>event_id</th>\n",
       "      <th>app_id</th>\n",
       "      <th>is_installed</th>\n",
       "      <th>is_active</th>\n",
       "    </tr>\n",
       "  </thead>\n",
       "  <tbody>\n",
       "    <tr>\n",
       "      <th>event_id</th>\n",
       "      <td>1.000000</td>\n",
       "      <td>0.000068</td>\n",
       "      <td>NaN</td>\n",
       "      <td>0.000733</td>\n",
       "    </tr>\n",
       "    <tr>\n",
       "      <th>app_id</th>\n",
       "      <td>0.000068</td>\n",
       "      <td>1.000000</td>\n",
       "      <td>NaN</td>\n",
       "      <td>0.094927</td>\n",
       "    </tr>\n",
       "    <tr>\n",
       "      <th>is_installed</th>\n",
       "      <td>NaN</td>\n",
       "      <td>NaN</td>\n",
       "      <td>NaN</td>\n",
       "      <td>NaN</td>\n",
       "    </tr>\n",
       "    <tr>\n",
       "      <th>is_active</th>\n",
       "      <td>0.000733</td>\n",
       "      <td>0.094927</td>\n",
       "      <td>NaN</td>\n",
       "      <td>1.000000</td>\n",
       "    </tr>\n",
       "  </tbody>\n",
       "</table>\n",
       "</div>"
      ],
      "text/plain": [
       "              event_id    app_id  is_installed  is_active\n",
       "event_id      1.000000  0.000068           NaN   0.000733\n",
       "app_id        0.000068  1.000000           NaN   0.094927\n",
       "is_installed       NaN       NaN           NaN        NaN\n",
       "is_active     0.000733  0.094927           NaN   1.000000"
      ]
     },
     "execution_count": 74,
     "metadata": {},
     "output_type": "execute_result"
    }
   ],
   "source": [
    "#Performing a correlation to see the relationship between different variables\n",
    "app_events.corr()"
   ]
  },
  {
   "cell_type": "code",
   "execution_count": 75,
   "metadata": {
    "collapsed": true
   },
   "outputs": [],
   "source": [
    "del app_events['is_installed']"
   ]
  },
  {
   "cell_type": "code",
   "execution_count": 80,
   "metadata": {
    "collapsed": true
   },
   "outputs": [],
   "source": [
    "events= pd.read_csv('/Users/Adiii/Documents/Springboard/Capstone Project/events.csv')"
   ]
  },
  {
   "cell_type": "code",
   "execution_count": 81,
   "metadata": {
    "collapsed": false
   },
   "outputs": [
    {
     "data": {
      "text/html": [
       "<div>\n",
       "<table border=\"1\" class=\"dataframe\">\n",
       "  <thead>\n",
       "    <tr style=\"text-align: right;\">\n",
       "      <th></th>\n",
       "      <th>event_id</th>\n",
       "      <th>device_id</th>\n",
       "      <th>timestamp</th>\n",
       "      <th>longitude</th>\n",
       "      <th>latitude</th>\n",
       "    </tr>\n",
       "  </thead>\n",
       "  <tbody>\n",
       "    <tr>\n",
       "      <th>0</th>\n",
       "      <td>1</td>\n",
       "      <td>29182687948017175</td>\n",
       "      <td>2016-05-01 00:55:25</td>\n",
       "      <td>121.38</td>\n",
       "      <td>31.24</td>\n",
       "    </tr>\n",
       "    <tr>\n",
       "      <th>1</th>\n",
       "      <td>2</td>\n",
       "      <td>-6401643145415154744</td>\n",
       "      <td>2016-05-01 00:54:12</td>\n",
       "      <td>103.65</td>\n",
       "      <td>30.97</td>\n",
       "    </tr>\n",
       "    <tr>\n",
       "      <th>2</th>\n",
       "      <td>3</td>\n",
       "      <td>-4833982096941402721</td>\n",
       "      <td>2016-05-01 00:08:05</td>\n",
       "      <td>106.60</td>\n",
       "      <td>29.70</td>\n",
       "    </tr>\n",
       "    <tr>\n",
       "      <th>3</th>\n",
       "      <td>4</td>\n",
       "      <td>-6815121365017318426</td>\n",
       "      <td>2016-05-01 00:06:40</td>\n",
       "      <td>104.27</td>\n",
       "      <td>23.28</td>\n",
       "    </tr>\n",
       "    <tr>\n",
       "      <th>4</th>\n",
       "      <td>5</td>\n",
       "      <td>-5373797595892518570</td>\n",
       "      <td>2016-05-01 00:07:18</td>\n",
       "      <td>115.88</td>\n",
       "      <td>28.66</td>\n",
       "    </tr>\n",
       "  </tbody>\n",
       "</table>\n",
       "</div>"
      ],
      "text/plain": [
       "   event_id            device_id            timestamp  longitude  latitude\n",
       "0         1    29182687948017175  2016-05-01 00:55:25     121.38     31.24\n",
       "1         2 -6401643145415154744  2016-05-01 00:54:12     103.65     30.97\n",
       "2         3 -4833982096941402721  2016-05-01 00:08:05     106.60     29.70\n",
       "3         4 -6815121365017318426  2016-05-01 00:06:40     104.27     23.28\n",
       "4         5 -5373797595892518570  2016-05-01 00:07:18     115.88     28.66"
      ]
     },
     "execution_count": 81,
     "metadata": {},
     "output_type": "execute_result"
    }
   ],
   "source": [
    "events.head()"
   ]
  },
  {
   "cell_type": "code",
   "execution_count": 82,
   "metadata": {
    "collapsed": true
   },
   "outputs": [],
   "source": [
    "phone_brand_device= pd.read_csv('/Users/Adiii/Documents/Springboard/Capstone Project/phone_brand_device_model.csv')"
   ]
  },
  {
   "cell_type": "code",
   "execution_count": 83,
   "metadata": {
    "collapsed": false
   },
   "outputs": [
    {
     "data": {
      "text/html": [
       "<div>\n",
       "<table border=\"1\" class=\"dataframe\">\n",
       "  <thead>\n",
       "    <tr style=\"text-align: right;\">\n",
       "      <th></th>\n",
       "      <th>device_id</th>\n",
       "      <th>phone_brand</th>\n",
       "      <th>device_model</th>\n",
       "    </tr>\n",
       "  </thead>\n",
       "  <tbody>\n",
       "    <tr>\n",
       "      <th>0</th>\n",
       "      <td>-8890648629457979026</td>\n",
       "      <td>小米</td>\n",
       "      <td>红米</td>\n",
       "    </tr>\n",
       "    <tr>\n",
       "      <th>1</th>\n",
       "      <td>1277779817574759137</td>\n",
       "      <td>小米</td>\n",
       "      <td>MI 2</td>\n",
       "    </tr>\n",
       "    <tr>\n",
       "      <th>2</th>\n",
       "      <td>5137427614288105724</td>\n",
       "      <td>三星</td>\n",
       "      <td>Galaxy S4</td>\n",
       "    </tr>\n",
       "    <tr>\n",
       "      <th>3</th>\n",
       "      <td>3669464369358936369</td>\n",
       "      <td>SUGAR</td>\n",
       "      <td>时尚手机</td>\n",
       "    </tr>\n",
       "    <tr>\n",
       "      <th>4</th>\n",
       "      <td>-5019277647504317457</td>\n",
       "      <td>三星</td>\n",
       "      <td>Galaxy Note 2</td>\n",
       "    </tr>\n",
       "  </tbody>\n",
       "</table>\n",
       "</div>"
      ],
      "text/plain": [
       "             device_id phone_brand   device_model\n",
       "0 -8890648629457979026          小米             红米\n",
       "1  1277779817574759137          小米           MI 2\n",
       "2  5137427614288105724          三星      Galaxy S4\n",
       "3  3669464369358936369       SUGAR           时尚手机\n",
       "4 -5019277647504317457          三星  Galaxy Note 2"
      ]
     },
     "execution_count": 83,
     "metadata": {},
     "output_type": "execute_result"
    }
   ],
   "source": [
    "phone_brand_device.head()"
   ]
  },
  {
   "cell_type": "code",
   "execution_count": 84,
   "metadata": {
    "collapsed": true
   },
   "outputs": [],
   "source": [
    "# Creating a dictionary to translate chinese brand names to english\n",
    "english_phone_brands_names = {\n",
    "    \"三星\": \"samsung\",\n",
    "    \"天语\": \"Ktouch\",\n",
    "    \"海信\": \"hisense\",\n",
    "    \"联想\": \"lenovo\",\n",
    "    \"欧比\": \"obi\",\n",
    "    \"爱派尔\": \"ipair\",\n",
    "    \"努比亚\": \"nubia\",\n",
    "    \"优米\": \"youmi\",\n",
    "    \"朵唯\": \"dowe\",\n",
    "    \"黑米\": \"heymi\",\n",
    "    \"锤子\": \"hammer\",\n",
    "    \"酷比魔方\": \"koobee\",\n",
    "    \"美图\": \"meitu\",\n",
    "    \"尼比鲁\": \"nibilu\",\n",
    "    \"一加\": \"oneplus\",\n",
    "    \"优购\": \"yougo\",\n",
    "    \"诺基亚\": \"nokia\",\n",
    "    \"糖葫芦\": \"candy\",\n",
    "    \"中国移动\": \"ccmc\",\n",
    "    \"语信\": \"yuxin\",\n",
    "    \"基伍\": \"kiwu\",\n",
    "    \"青橙\": \"greeno\",\n",
    "    \"华硕\": \"asus\",\n",
    "    \"夏新\": \"panosonic\",\n",
    "    \"维图\": \"weitu\",\n",
    "    \"艾优尼\": \"aiyouni\",\n",
    "    \"摩托罗拉\": \"moto\",\n",
    "    \"乡米\": \"xiangmi\",\n",
    "    \"米奇\": \"micky\",\n",
    "    \"大可乐\": \"bigcola\",\n",
    "    \"沃普丰\": \"wpf\",\n",
    "    \"神舟\": \"hasse\",\n",
    "    \"摩乐\": \"mole\",\n",
    "    \"飞秒\": \"fs\",\n",
    "    \"米歌\": \"mige\",\n",
    "    \"富可视\": \"fks\",\n",
    "    \"德赛\": \"desci\",\n",
    "    \"梦米\": \"mengmi\",\n",
    "    \"乐视\": \"lshi\",\n",
    "    \"小杨树\": \"smallt\",\n",
    "    \"纽曼\": \"newman\",\n",
    "    \"邦华\": \"banghua\",\n",
    "    \"E派\": \"epai\",\n",
    "    \"易派\": \"epai\",\n",
    "    \"普耐尔\": \"pner\",\n",
    "    \"欧新\": \"ouxin\",\n",
    "    \"西米\": \"ximi\",\n",
    "    \"海尔\": \"haier\",\n",
    "    \"波导\": \"bodao\",\n",
    "    \"糯米\": \"nuomi\",\n",
    "    \"唯米\": \"weimi\",\n",
    "    \"酷珀\": \"kupo\",\n",
    "    \"谷歌\": \"google\",\n",
    "    \"昂达\": \"ada\",\n",
    "    \"聆韵\": \"lingyun\",\n",
    "    \"小米\": \"Xiaomi\",\n",
    "    \"华为\": \"Huawei\",\n",
    "    \"魅族\": \"Meizu\",\n",
    "    \"中兴\": \"ZTE\",\n",
    "    \"酷派\": \"Coolpad\",\n",
    "    \"金立\": \"Gionee\",\n",
    "    \"SUGAR\": \"SUGAR\",\n",
    "    \"OPPO\": \"OPPO\",\n",
    "    \"vivo\": \"vivo\",\n",
    "    \"HTC\": \"HTC\",\n",
    "    \"LG\": \"LG\",\n",
    "    \"ZUK\": \"ZUK\",\n",
    "    \"TCL\": \"TCL\",\n",
    "    \"LOGO\": \"LOGO\",\n",
    "    \"SUGAR\": \"SUGAR\",\n",
    "    \"Lovme\": \"Lovme\",\n",
    "    \"PPTV\": \"PPTV\",\n",
    "    \"ZOYE\": \"ZOYE\",\n",
    "    \"MIL\": \"MIL\",\n",
    "    \"索尼\" : \"Sony\",\n",
    "    \"欧博信\" : \"Opssom\",\n",
    "    \"奇酷\" : \"Qiku\",\n",
    "    \"酷比\" : \"CUBE\",\n",
    "    \"康佳\" : \"Konka\",\n",
    "    \"亿通\" : \"Yitong\",\n",
    "    \"金星数码\" : \"JXD\",\n",
    "    \"至尊宝\" : \"Monkey King\",\n",
    "    \"百立丰\" : \"Hundred Li Feng\",\n",
    "    \"贝尔丰\" : \"Bifer\",\n",
    "    \"百加\" : \"Bacardi\",\n",
    "    \"诺亚信\" : \"Noain\",\n",
    "    \"广信\" : \"Kingsun\",\n",
    "    \"世纪天元\" : \"Ctyon\",\n",
    "    \"青葱\" : \"Cong\",\n",
    "    \"果米\" : \"Taobao\",\n",
    "    \"斐讯\" : \"Phicomm\",\n",
    "    \"长虹\" : \"Changhong\",\n",
    "    \"欧奇\" : \"Oukimobile\",\n",
    "    \"先锋\" : \"XFPLAY\",\n",
    "    \"台电\" : \"Teclast\",\n",
    "    \"大Q\" : \"Daq\",\n",
    "    \"蓝魔\" : \"Ramos\",\n",
    "    \"奥克斯\" : \"AUX\"\n",
    "}"
   ]
  },
  {
   "cell_type": "code",
   "execution_count": 85,
   "metadata": {
    "collapsed": true
   },
   "outputs": [],
   "source": [
    "# Mapping chinese brand names to english \n",
    "phone_brand_device.phone_brand = phone_brand_device.phone_brand.map(pd.Series(english_phone_brands_names), na_action='ignore')"
   ]
  },
  {
   "cell_type": "code",
   "execution_count": 86,
   "metadata": {
    "collapsed": false
   },
   "outputs": [
    {
     "data": {
      "text/plain": [
       "device_id         0\n",
       "phone_brand     113\n",
       "device_model      0\n",
       "dtype: int64"
      ]
     },
     "execution_count": 86,
     "metadata": {},
     "output_type": "execute_result"
    }
   ],
   "source": [
    "phone_brand_device.isnull().sum()"
   ]
  },
  {
   "cell_type": "code",
   "execution_count": 87,
   "metadata": {
    "collapsed": true
   },
   "outputs": [],
   "source": [
    "train= pd.read_csv('/Users/Adiii/Documents/Springboard/Capstone Project/gender_age_train.csv')"
   ]
  },
  {
   "cell_type": "code",
   "execution_count": 88,
   "metadata": {
    "collapsed": false
   },
   "outputs": [
    {
     "data": {
      "text/html": [
       "<div>\n",
       "<table border=\"1\" class=\"dataframe\">\n",
       "  <thead>\n",
       "    <tr style=\"text-align: right;\">\n",
       "      <th></th>\n",
       "      <th>device_id</th>\n",
       "      <th>gender</th>\n",
       "      <th>age</th>\n",
       "      <th>group</th>\n",
       "    </tr>\n",
       "  </thead>\n",
       "  <tbody>\n",
       "    <tr>\n",
       "      <th>0</th>\n",
       "      <td>-8076087639492063270</td>\n",
       "      <td>M</td>\n",
       "      <td>35</td>\n",
       "      <td>M32-38</td>\n",
       "    </tr>\n",
       "    <tr>\n",
       "      <th>1</th>\n",
       "      <td>-2897161552818060146</td>\n",
       "      <td>M</td>\n",
       "      <td>35</td>\n",
       "      <td>M32-38</td>\n",
       "    </tr>\n",
       "    <tr>\n",
       "      <th>2</th>\n",
       "      <td>-8260683887967679142</td>\n",
       "      <td>M</td>\n",
       "      <td>35</td>\n",
       "      <td>M32-38</td>\n",
       "    </tr>\n",
       "    <tr>\n",
       "      <th>3</th>\n",
       "      <td>-4938849341048082022</td>\n",
       "      <td>M</td>\n",
       "      <td>30</td>\n",
       "      <td>M29-31</td>\n",
       "    </tr>\n",
       "    <tr>\n",
       "      <th>4</th>\n",
       "      <td>245133531816851882</td>\n",
       "      <td>M</td>\n",
       "      <td>30</td>\n",
       "      <td>M29-31</td>\n",
       "    </tr>\n",
       "  </tbody>\n",
       "</table>\n",
       "</div>"
      ],
      "text/plain": [
       "             device_id gender  age   group\n",
       "0 -8076087639492063270      M   35  M32-38\n",
       "1 -2897161552818060146      M   35  M32-38\n",
       "2 -8260683887967679142      M   35  M32-38\n",
       "3 -4938849341048082022      M   30  M29-31\n",
       "4   245133531816851882      M   30  M29-31"
      ]
     },
     "execution_count": 88,
     "metadata": {},
     "output_type": "execute_result"
    }
   ],
   "source": [
    "train.head()"
   ]
  },
  {
   "cell_type": "code",
   "execution_count": 147,
   "metadata": {
    "collapsed": false,
    "scrolled": true
   },
   "outputs": [
    {
     "data": {
      "text/html": [
       "<div>\n",
       "<table border=\"1\" class=\"dataframe\">\n",
       "  <thead>\n",
       "    <tr style=\"text-align: right;\">\n",
       "      <th></th>\n",
       "      <th>event_id</th>\n",
       "      <th>device_id</th>\n",
       "      <th>timestamp</th>\n",
       "      <th>longitude</th>\n",
       "      <th>latitude</th>\n",
       "      <th>time_hour</th>\n",
       "      <th>week_day</th>\n",
       "      <th>gender</th>\n",
       "      <th>age</th>\n",
       "      <th>group</th>\n",
       "    </tr>\n",
       "  </thead>\n",
       "  <tbody>\n",
       "    <tr>\n",
       "      <th>0</th>\n",
       "      <td>1</td>\n",
       "      <td>29182687948017175</td>\n",
       "      <td>2016-05-01 00:55:25</td>\n",
       "      <td>121.38</td>\n",
       "      <td>31.24</td>\n",
       "      <td>0</td>\n",
       "      <td>Sunday</td>\n",
       "      <td>M</td>\n",
       "      <td>46.0</td>\n",
       "      <td>M39+</td>\n",
       "    </tr>\n",
       "    <tr>\n",
       "      <th>1</th>\n",
       "      <td>2</td>\n",
       "      <td>-6401643145415154744</td>\n",
       "      <td>2016-05-01 00:54:12</td>\n",
       "      <td>103.65</td>\n",
       "      <td>30.97</td>\n",
       "      <td>0</td>\n",
       "      <td>Sunday</td>\n",
       "      <td>NaN</td>\n",
       "      <td>NaN</td>\n",
       "      <td>NaN</td>\n",
       "    </tr>\n",
       "    <tr>\n",
       "      <th>2</th>\n",
       "      <td>3</td>\n",
       "      <td>-4833982096941402721</td>\n",
       "      <td>2016-05-01 00:08:05</td>\n",
       "      <td>106.60</td>\n",
       "      <td>29.70</td>\n",
       "      <td>0</td>\n",
       "      <td>Sunday</td>\n",
       "      <td>M</td>\n",
       "      <td>47.0</td>\n",
       "      <td>M39+</td>\n",
       "    </tr>\n",
       "    <tr>\n",
       "      <th>3</th>\n",
       "      <td>4</td>\n",
       "      <td>-6815121365017318426</td>\n",
       "      <td>2016-05-01 00:06:40</td>\n",
       "      <td>104.27</td>\n",
       "      <td>23.28</td>\n",
       "      <td>0</td>\n",
       "      <td>Sunday</td>\n",
       "      <td>M</td>\n",
       "      <td>30.0</td>\n",
       "      <td>M29-31</td>\n",
       "    </tr>\n",
       "    <tr>\n",
       "      <th>4</th>\n",
       "      <td>5</td>\n",
       "      <td>-5373797595892518570</td>\n",
       "      <td>2016-05-01 00:07:18</td>\n",
       "      <td>115.88</td>\n",
       "      <td>28.66</td>\n",
       "      <td>0</td>\n",
       "      <td>Sunday</td>\n",
       "      <td>F</td>\n",
       "      <td>28.0</td>\n",
       "      <td>F27-28</td>\n",
       "    </tr>\n",
       "  </tbody>\n",
       "</table>\n",
       "</div>"
      ],
      "text/plain": [
       "   event_id            device_id           timestamp  longitude  latitude  \\\n",
       "0         1    29182687948017175 2016-05-01 00:55:25     121.38     31.24   \n",
       "1         2 -6401643145415154744 2016-05-01 00:54:12     103.65     30.97   \n",
       "2         3 -4833982096941402721 2016-05-01 00:08:05     106.60     29.70   \n",
       "3         4 -6815121365017318426 2016-05-01 00:06:40     104.27     23.28   \n",
       "4         5 -5373797595892518570 2016-05-01 00:07:18     115.88     28.66   \n",
       "\n",
       "   time_hour week_day gender   age   group  \n",
       "0          0   Sunday      M  46.0    M39+  \n",
       "1          0   Sunday    NaN   NaN     NaN  \n",
       "2          0   Sunday      M  47.0    M39+  \n",
       "3          0   Sunday      M  30.0  M29-31  \n",
       "4          0   Sunday      F  28.0  F27-28  "
      ]
     },
     "execution_count": 147,
     "metadata": {},
     "output_type": "execute_result"
    }
   ],
   "source": [
    "merge=pd.merge(events, train, on='device_id',how='left')\n",
    "merge.head()"
   ]
  },
  {
   "cell_type": "code",
   "execution_count": 148,
   "metadata": {
    "collapsed": false
   },
   "outputs": [
    {
     "data": {
      "text/html": [
       "<div>\n",
       "<table border=\"1\" class=\"dataframe\">\n",
       "  <thead>\n",
       "    <tr style=\"text-align: right;\">\n",
       "      <th></th>\n",
       "      <th>event_id</th>\n",
       "      <th>device_id</th>\n",
       "      <th>timestamp</th>\n",
       "      <th>longitude</th>\n",
       "      <th>latitude</th>\n",
       "      <th>time_hour</th>\n",
       "      <th>week_day</th>\n",
       "      <th>gender</th>\n",
       "      <th>age</th>\n",
       "      <th>group</th>\n",
       "      <th>phone_brand</th>\n",
       "      <th>device_model</th>\n",
       "    </tr>\n",
       "  </thead>\n",
       "  <tbody>\n",
       "    <tr>\n",
       "      <th>0</th>\n",
       "      <td>1</td>\n",
       "      <td>29182687948017175</td>\n",
       "      <td>2016-05-01 00:55:25</td>\n",
       "      <td>121.38</td>\n",
       "      <td>31.24</td>\n",
       "      <td>0</td>\n",
       "      <td>Sunday</td>\n",
       "      <td>M</td>\n",
       "      <td>46.0</td>\n",
       "      <td>M39+</td>\n",
       "      <td>Xiaomi</td>\n",
       "      <td>红米note</td>\n",
       "    </tr>\n",
       "    <tr>\n",
       "      <th>1</th>\n",
       "      <td>2</td>\n",
       "      <td>-6401643145415154744</td>\n",
       "      <td>2016-05-01 00:54:12</td>\n",
       "      <td>103.65</td>\n",
       "      <td>30.97</td>\n",
       "      <td>0</td>\n",
       "      <td>Sunday</td>\n",
       "      <td>NaN</td>\n",
       "      <td>NaN</td>\n",
       "      <td>NaN</td>\n",
       "      <td>samsung</td>\n",
       "      <td>Galaxy Grand Prime</td>\n",
       "    </tr>\n",
       "    <tr>\n",
       "      <th>2</th>\n",
       "      <td>3</td>\n",
       "      <td>-4833982096941402721</td>\n",
       "      <td>2016-05-01 00:08:05</td>\n",
       "      <td>106.60</td>\n",
       "      <td>29.70</td>\n",
       "      <td>0</td>\n",
       "      <td>Sunday</td>\n",
       "      <td>M</td>\n",
       "      <td>47.0</td>\n",
       "      <td>M39+</td>\n",
       "      <td>Meizu</td>\n",
       "      <td>MX4 Pro</td>\n",
       "    </tr>\n",
       "    <tr>\n",
       "      <th>3</th>\n",
       "      <td>4</td>\n",
       "      <td>-6815121365017318426</td>\n",
       "      <td>2016-05-01 00:06:40</td>\n",
       "      <td>104.27</td>\n",
       "      <td>23.28</td>\n",
       "      <td>0</td>\n",
       "      <td>Sunday</td>\n",
       "      <td>M</td>\n",
       "      <td>30.0</td>\n",
       "      <td>M29-31</td>\n",
       "      <td>vivo</td>\n",
       "      <td>Y27</td>\n",
       "    </tr>\n",
       "    <tr>\n",
       "      <th>4</th>\n",
       "      <td>5</td>\n",
       "      <td>-5373797595892518570</td>\n",
       "      <td>2016-05-01 00:07:18</td>\n",
       "      <td>115.88</td>\n",
       "      <td>28.66</td>\n",
       "      <td>0</td>\n",
       "      <td>Sunday</td>\n",
       "      <td>F</td>\n",
       "      <td>28.0</td>\n",
       "      <td>F27-28</td>\n",
       "      <td>Coolpad</td>\n",
       "      <td>大神F2</td>\n",
       "    </tr>\n",
       "  </tbody>\n",
       "</table>\n",
       "</div>"
      ],
      "text/plain": [
       "   event_id            device_id           timestamp  longitude  latitude  \\\n",
       "0         1    29182687948017175 2016-05-01 00:55:25     121.38     31.24   \n",
       "1         2 -6401643145415154744 2016-05-01 00:54:12     103.65     30.97   \n",
       "2         3 -4833982096941402721 2016-05-01 00:08:05     106.60     29.70   \n",
       "3         4 -6815121365017318426 2016-05-01 00:06:40     104.27     23.28   \n",
       "4         5 -5373797595892518570 2016-05-01 00:07:18     115.88     28.66   \n",
       "\n",
       "   time_hour week_day gender   age   group phone_brand        device_model  \n",
       "0          0   Sunday      M  46.0    M39+      Xiaomi              红米note  \n",
       "1          0   Sunday    NaN   NaN     NaN     samsung  Galaxy Grand Prime  \n",
       "2          0   Sunday      M  47.0    M39+       Meizu             MX4 Pro  \n",
       "3          0   Sunday      M  30.0  M29-31        vivo                 Y27  \n",
       "4          0   Sunday      F  28.0  F27-28     Coolpad                大神F2  "
      ]
     },
     "execution_count": 148,
     "metadata": {},
     "output_type": "execute_result"
    }
   ],
   "source": [
    "merge=pd.merge(merge, phone_brand_device, on='device_id', how='left')\n",
    "merge.head()"
   ]
  },
  {
   "cell_type": "code",
   "execution_count": 89,
   "metadata": {
    "collapsed": false
   },
   "outputs": [
    {
     "data": {
      "text/plain": [
       "M    47904\n",
       "F    26741\n",
       "Name: gender, dtype: int64"
      ]
     },
     "execution_count": 89,
     "metadata": {},
     "output_type": "execute_result"
    }
   ],
   "source": [
    "train.gender.value_counts()"
   ]
  },
  {
   "cell_type": "code",
   "execution_count": 90,
   "metadata": {
    "collapsed": false,
    "scrolled": true
   },
   "outputs": [
    {
     "data": {
      "text/plain": [
       "<matplotlib.axes._subplots.AxesSubplot at 0x11a3bd9e8>"
      ]
     },
     "execution_count": 90,
     "metadata": {},
     "output_type": "execute_result"
    },
    {
     "data": {
      "image/png": "[encoded data removed]",
      "text/plain": [
       "<matplotlib.figure.Figure at 0x12650b080>"
      ]
     },
     "metadata": {},
     "output_type": "display_data"
    }
   ],
   "source": [
    "#creating a countplot using seaborn library to count the number of males and females in the training dataset\n",
    "sns.countplot(x='gender',data=train)"
   ]
  },
  {
   "cell_type": "markdown",
   "metadata": {},
   "source": [
    "We create a countplot to see the distribution of gender in the training data set. This will give us an initial look into the demographics of the user. There are 74,645 users in the training data set of Talking Data. Among these, 47,904 are males (around 64%) and 26,741 are females (around 36%)."
   ]
  },
  {
   "cell_type": "code",
   "execution_count": 91,
   "metadata": {
    "collapsed": false
   },
   "outputs": [
    {
     "name": "stderr",
     "output_type": "stream",
     "text": [
      "//anaconda/lib/python3.5/site-packages/statsmodels/nonparametric/kdetools.py:20: VisibleDeprecationWarning: using a non-integer number instead of an integer will result in an error in the future\n",
      "  y = X[:m/2+1] + np.r_[0,X[m/2+1:],0]*1j\n"
     ]
    },
    {
     "data": {
      "text/plain": [
       "<matplotlib.axes._subplots.AxesSubplot at 0x276905b00>"
      ]
     },
     "execution_count": 91,
     "metadata": {},
     "output_type": "execute_result"
    },
    {
     "data": {
      "image/png": "[encoded data removed]",
      "text/plain": [
       "<matplotlib.figure.Figure at 0x1049e6208>"
      ]
     },
     "metadata": {},
     "output_type": "display_data"
    }
   ],
   "source": [
    "#A kernel density estimation plot to see the distribution of age using seaborn\n",
    "sns.kdeplot(train.age)"
   ]
  },
  {
   "cell_type": "code",
   "execution_count": 92,
   "metadata": {
    "collapsed": false
   },
   "outputs": [
    {
     "name": "stdout",
     "output_type": "stream",
     "text": [
      "Mean is: 31.410342286824303\n",
      "Median is: 29.0\n",
      "Mode is: 0    26\n",
      "dtype: int64\n",
      "Skewness is: 1.3698163418\n",
      "Kurtosis is: 2.43209308802\n"
     ]
    }
   ],
   "source": [
    "#Descriptive statistics for variable age to check for normal distribution\n",
    "mean = train['age'].mean()\n",
    "print('Mean is:', mean)\n",
    "median = train['age'].median()\n",
    "print('Median is:', median)\n",
    "mode = train['age'].mode()\n",
    "print('Mode is:', mode)\n",
    "skewness = train['age'].skew()\n",
    "print('Skewness is:', skewness)\n",
    "kurtosis = train['age'].kurt()\n",
    "print('Kurtosis is:', kurtosis)"
   ]
  },
  {
   "cell_type": "code",
   "execution_count": 93,
   "metadata": {
    "collapsed": false,
    "scrolled": true
   },
   "outputs": [
    {
     "name": "stderr",
     "output_type": "stream",
     "text": [
      "//anaconda/lib/python3.5/site-packages/statsmodels/nonparametric/kdetools.py:20: VisibleDeprecationWarning: using a non-integer number instead of an integer will result in an error in the future\n",
      "  y = X[:m/2+1] + np.r_[0,X[m/2+1:],0]*1j\n"
     ]
    },
    {
     "data": {
      "text/plain": [
       "<matplotlib.text.Text at 0x1208b9b38>"
      ]
     },
     "execution_count": 93,
     "metadata": {},
     "output_type": "execute_result"
    },
    {
     "data": {
      "image/png": "[encoded data removed]",
      "text/plain": [
       "<matplotlib.figure.Figure at 0x276905940>"
      ]
     },
     "metadata": {},
     "output_type": "display_data"
    }
   ],
   "source": [
    "#Creating a distplot using seaborn by filtering males and females in the train dataset\n",
    "sns.distplot(train[train.gender == 'M'].age, hist=False, label='Male')\n",
    "sns.distplot(train[train.gender == 'F'].age, hist=False, label='Female')\n",
    "plt.title('Distribution of Age by Gender')"
   ]
  },
  {
   "cell_type": "markdown",
   "metadata": {},
   "source": [
    "We create a distplot to see the age distribution of male and female. Since, the mean, median and mode are not equat as well as since the skewness and kurtosis are well over our accepted range of -1 to +1, we can say that the variable age is not normally distributed. Age group of 20 - 40 are the dominate age as we see a high peak for that age category. This means most of (maximum) talkingdata's users fall in this age category. We also see that, females at old age are more active (use more mobile devices) than males at the same age."
   ]
  },
  {
   "cell_type": "code",
   "execution_count": 94,
   "metadata": {
    "collapsed": false
   },
   "outputs": [
    {
     "data": {
      "text/plain": [
       "29.0"
      ]
     },
     "execution_count": 94,
     "metadata": {},
     "output_type": "execute_result"
    }
   ],
   "source": [
    "# The median age in the training data set is 29\n",
    "np.round(train.age.median())"
   ]
  },
  {
   "cell_type": "code",
   "execution_count": 95,
   "metadata": {
    "collapsed": false
   },
   "outputs": [
    {
     "data": {
      "text/plain": [
       "31.0"
      ]
     },
     "execution_count": 95,
     "metadata": {},
     "output_type": "execute_result"
    }
   ],
   "source": [
    "# The mean age in the training data set is 31\n",
    "np.round(train.age.mean())"
   ]
  },
  {
   "cell_type": "code",
   "execution_count": 96,
   "metadata": {
    "collapsed": false
   },
   "outputs": [
    {
     "data": {
      "text/plain": [
       "31.0"
      ]
     },
     "execution_count": 96,
     "metadata": {},
     "output_type": "execute_result"
    }
   ],
   "source": [
    "# The mean age in the training data set for males is 31\n",
    "np.round(train[train.gender == 'M'].age.mean())"
   ]
  },
  {
   "cell_type": "code",
   "execution_count": 97,
   "metadata": {
    "collapsed": false
   },
   "outputs": [
    {
     "data": {
      "text/plain": [
       "32.0"
      ]
     },
     "execution_count": 97,
     "metadata": {},
     "output_type": "execute_result"
    }
   ],
   "source": [
    "# The mean age in the training data set for females is 32\n",
    "np.round(train[train.gender == 'F'].age.mean())"
   ]
  },
  {
   "cell_type": "code",
   "execution_count": 98,
   "metadata": {
    "collapsed": false
   },
   "outputs": [
    {
     "data": {
      "text/plain": [
       "M23-26    9605\n",
       "M32-38    9476\n",
       "M39+      8581\n",
       "M22-      7488\n",
       "M29-31    7309\n",
       "F33-42    5561\n",
       "M27-28    5445\n",
       "F23-      5050\n",
       "F29-32    4628\n",
       "F43+      4194\n",
       "F24-26    4190\n",
       "F27-28    3118\n",
       "Name: group, dtype: int64"
      ]
     },
     "execution_count": 98,
     "metadata": {},
     "output_type": "execute_result"
    }
   ],
   "source": [
    "train.group.value_counts()"
   ]
  },
  {
   "cell_type": "code",
   "execution_count": 99,
   "metadata": {
    "collapsed": false,
    "scrolled": true
   },
   "outputs": [
    {
     "data": {
      "text/plain": [
       "<matplotlib.axes._subplots.AxesSubplot at 0x1205294e0>"
      ]
     },
     "execution_count": 99,
     "metadata": {},
     "output_type": "execute_result"
    },
    {
     "data": {
      "image/png": "[encoded data removed]",
      "text/plain": [
       "<matplotlib.figure.Figure at 0x120523240>"
      ]
     },
     "metadata": {},
     "output_type": "display_data"
    }
   ],
   "source": [
    "#Plotting a bar graph to display the count of various age groups\n",
    "train.group.value_counts().sort_values(ascending=False).plot('bar')"
   ]
  },
  {
   "cell_type": "markdown",
   "metadata": {},
   "source": [
    "The above plot tells us that most of the talking data users are Males in th age group 23-26. The next age group is Males 32-38 with the difference between the two groups not significant. This is in concurrence to our kdeplot where we found that maximum talkingdata users were between 20-40. Females in the age group 27-28 are the least users of talkingdata according to the plot we have. "
   ]
  },
  {
   "cell_type": "code",
   "execution_count": 100,
   "metadata": {
    "collapsed": false
   },
   "outputs": [],
   "source": [
    "events['timestamp']=pd.to_datetime(events['timestamp'])\n",
    "events['time_hour'] = events['timestamp'].apply(lambda x: x.hour)"
   ]
  },
  {
   "cell_type": "code",
   "execution_count": 101,
   "metadata": {
    "collapsed": false
   },
   "outputs": [
    {
     "data": {
      "text/plain": [
       "10    183839\n",
       "21    181175\n",
       "20    178179\n",
       "22    168246\n",
       "11    167025\n",
       "19    166160\n",
       "9     166061\n",
       "12    162745\n",
       "8     157896\n",
       "18    156209\n",
       "13    155337\n",
       "17    153516\n",
       "14    151379\n",
       "16    150732\n",
       "15    149912\n",
       "7     146667\n",
       "23    136339\n",
       "0     120512\n",
       "6     116370\n",
       "1      72671\n",
       "5      66411\n",
       "2      53764\n",
       "3      47048\n",
       "4      44757\n",
       "Name: time_hour, dtype: int64"
      ]
     },
     "execution_count": 101,
     "metadata": {},
     "output_type": "execute_result"
    }
   ],
   "source": [
    "#event frequency by hour\n",
    "events['time_hour'].value_counts()"
   ]
  },
  {
   "cell_type": "code",
   "execution_count": 102,
   "metadata": {
    "collapsed": false
   },
   "outputs": [
    {
     "data": {
      "image/png": "[encoded data removed]",
      "text/plain": [
       "<matplotlib.figure.Figure at 0x27690c400>"
      ]
     },
     "metadata": {},
     "output_type": "display_data"
    }
   ],
   "source": [
    "ax = sns.countplot(x=\"time_hour\", data=events)"
   ]
  },
  {
   "cell_type": "markdown",
   "metadata": {},
   "source": [
    "We create a new feature, hour from the timestamp variable in the initial dataset. After plotting a count plot for this new feature, we notice that hours 10 and 21 have the maximum number of events recorded in the talking data dataset. Hours 10 and 21 correspond to 10:00 AM and 9:00 PM. Such a visualisation makes sense as users are more likely to be active at 10:00 AM when they travel for work or start their day. Also, 9:00 PM represents a time after dinner and users are more likely to use their mobile and browse apps as they unwind and relax just before sleep."
   ]
  },
  {
   "cell_type": "code",
   "execution_count": 103,
   "metadata": {
    "collapsed": false
   },
   "outputs": [
    {
     "data": {
      "image/png": "[encoded data removed]",
      "text/plain": [
       "<matplotlib.figure.Figure at 0x21664f5f8>"
      ]
     },
     "metadata": {},
     "output_type": "display_data"
    }
   ],
   "source": [
    "#Countplot for different age groups of males\n",
    "ax= sns.countplot(x='group', data=train[train.gender=='M'])"
   ]
  },
  {
   "cell_type": "code",
   "execution_count": 104,
   "metadata": {
    "collapsed": false
   },
   "outputs": [
    {
     "data": {
      "image/png": "[encoded data removed]",
      "text/plain": [
       "<matplotlib.figure.Figure at 0x216623ac8>"
      ]
     },
     "metadata": {},
     "output_type": "display_data"
    }
   ],
   "source": [
    "#Countplot for different age groups of females\n",
    "ax= sns.countplot(x='group', data=train[train.gender=='F'])"
   ]
  },
  {
   "cell_type": "code",
   "execution_count": 105,
   "metadata": {
    "collapsed": true
   },
   "outputs": [],
   "source": [
    "import calendar"
   ]
  },
  {
   "cell_type": "code",
   "execution_count": 106,
   "metadata": {
    "collapsed": true
   },
   "outputs": [],
   "source": [
    "events['week_day'] = events.timestamp.apply(lambda x: calendar.day_name[x.weekday()])"
   ]
  },
  {
   "cell_type": "code",
   "execution_count": 107,
   "metadata": {
    "collapsed": false
   },
   "outputs": [
    {
     "data": {
      "text/plain": [
       "Tuesday      483293\n",
       "Thursday     478999\n",
       "Wednesday    473487\n",
       "Friday       471730\n",
       "Monday       451546\n",
       "Saturday     449304\n",
       "Sunday       444591\n",
       "Name: week_day, dtype: int64"
      ]
     },
     "execution_count": 107,
     "metadata": {},
     "output_type": "execute_result"
    }
   ],
   "source": [
    "events.week_day.value_counts()"
   ]
  },
  {
   "cell_type": "code",
   "execution_count": 108,
   "metadata": {
    "collapsed": false
   },
   "outputs": [
    {
     "data": {
      "image/png": "[encoded data removed]",
      "text/plain": [
       "<matplotlib.figure.Figure at 0x1049f97f0>"
      ]
     },
     "metadata": {},
     "output_type": "display_data"
    }
   ],
   "source": [
    "ax=sns.countplot(x='week_day',data=events)"
   ]
  },
  {
   "cell_type": "markdown",
   "metadata": {},
   "source": [
    "After creating a countplot for all the events occured in the TalkingData SDK, we observe that maximum events are recorded on a tuesday followed by a thursday. This is an interesting insight as you would assume maximum events to be occuring on weekends. This is further surprising as we see that the weekends (Saturday and Sunday) have the least number of events."
   ]
  },
  {
   "cell_type": "code",
   "execution_count": 109,
   "metadata": {
    "collapsed": true
   },
   "outputs": [],
   "source": [
    "#Filtering out the users who are active\n",
    "active_events=app_events[app_events.is_active==1]"
   ]
  },
  {
   "cell_type": "code",
   "execution_count": 110,
   "metadata": {
    "collapsed": true
   },
   "outputs": [],
   "source": [
    "#Merging it with apps\n",
    "active_apps = active_events.merge(events, how='inner', on='event_id')"
   ]
  },
  {
   "cell_type": "code",
   "execution_count": 111,
   "metadata": {
    "collapsed": false,
    "scrolled": true
   },
   "outputs": [
    {
     "data": {
      "text/html": [
       "<div>\n",
       "<table border=\"1\" class=\"dataframe\">\n",
       "  <thead>\n",
       "    <tr style=\"text-align: right;\">\n",
       "      <th></th>\n",
       "      <th>event_id</th>\n",
       "      <th>app_id</th>\n",
       "      <th>is_active</th>\n",
       "      <th>device_id</th>\n",
       "      <th>timestamp</th>\n",
       "      <th>longitude</th>\n",
       "      <th>latitude</th>\n",
       "      <th>time_hour</th>\n",
       "      <th>week_day</th>\n",
       "    </tr>\n",
       "  </thead>\n",
       "  <tbody>\n",
       "    <tr>\n",
       "      <th>0</th>\n",
       "      <td>2</td>\n",
       "      <td>5927333115845830913</td>\n",
       "      <td>1</td>\n",
       "      <td>-6401643145415154744</td>\n",
       "      <td>2016-05-01 00:54:12</td>\n",
       "      <td>103.65</td>\n",
       "      <td>30.97</td>\n",
       "      <td>0</td>\n",
       "      <td>Sunday</td>\n",
       "    </tr>\n",
       "    <tr>\n",
       "      <th>1</th>\n",
       "      <td>2</td>\n",
       "      <td>-653184325010919369</td>\n",
       "      <td>1</td>\n",
       "      <td>-6401643145415154744</td>\n",
       "      <td>2016-05-01 00:54:12</td>\n",
       "      <td>103.65</td>\n",
       "      <td>30.97</td>\n",
       "      <td>0</td>\n",
       "      <td>Sunday</td>\n",
       "    </tr>\n",
       "    <tr>\n",
       "      <th>2</th>\n",
       "      <td>2</td>\n",
       "      <td>8693964245073640147</td>\n",
       "      <td>1</td>\n",
       "      <td>-6401643145415154744</td>\n",
       "      <td>2016-05-01 00:54:12</td>\n",
       "      <td>103.65</td>\n",
       "      <td>30.97</td>\n",
       "      <td>0</td>\n",
       "      <td>Sunday</td>\n",
       "    </tr>\n",
       "    <tr>\n",
       "      <th>3</th>\n",
       "      <td>2</td>\n",
       "      <td>4775896950989639373</td>\n",
       "      <td>1</td>\n",
       "      <td>-6401643145415154744</td>\n",
       "      <td>2016-05-01 00:54:12</td>\n",
       "      <td>103.65</td>\n",
       "      <td>30.97</td>\n",
       "      <td>0</td>\n",
       "      <td>Sunday</td>\n",
       "    </tr>\n",
       "    <tr>\n",
       "      <th>4</th>\n",
       "      <td>2</td>\n",
       "      <td>7167114343576723123</td>\n",
       "      <td>1</td>\n",
       "      <td>-6401643145415154744</td>\n",
       "      <td>2016-05-01 00:54:12</td>\n",
       "      <td>103.65</td>\n",
       "      <td>30.97</td>\n",
       "      <td>0</td>\n",
       "      <td>Sunday</td>\n",
       "    </tr>\n",
       "  </tbody>\n",
       "</table>\n",
       "</div>"
      ],
      "text/plain": [
       "   event_id               app_id  is_active            device_id  \\\n",
       "0         2  5927333115845830913          1 -6401643145415154744   \n",
       "1         2  -653184325010919369          1 -6401643145415154744   \n",
       "2         2  8693964245073640147          1 -6401643145415154744   \n",
       "3         2  4775896950989639373          1 -6401643145415154744   \n",
       "4         2  7167114343576723123          1 -6401643145415154744   \n",
       "\n",
       "            timestamp  longitude  latitude  time_hour week_day  \n",
       "0 2016-05-01 00:54:12     103.65     30.97          0   Sunday  \n",
       "1 2016-05-01 00:54:12     103.65     30.97          0   Sunday  \n",
       "2 2016-05-01 00:54:12     103.65     30.97          0   Sunday  \n",
       "3 2016-05-01 00:54:12     103.65     30.97          0   Sunday  \n",
       "4 2016-05-01 00:54:12     103.65     30.97          0   Sunday  "
      ]
     },
     "execution_count": 111,
     "metadata": {},
     "output_type": "execute_result"
    }
   ],
   "source": [
    "active_apps.head()"
   ]
  },
  {
   "cell_type": "code",
   "execution_count": 133,
   "metadata": {
    "collapsed": true
   },
   "outputs": [],
   "source": [
    "#Performing a merge operation to get the categories of the apps for the various devices\n",
    "devices_cat=pd.merge(active_apps,applabcat,on='app_id',how='inner')"
   ]
  },
  {
   "cell_type": "code",
   "execution_count": 134,
   "metadata": {
    "collapsed": false
   },
   "outputs": [
    {
     "data": {
      "text/plain": [
       "(71376435, 11)"
      ]
     },
     "execution_count": 134,
     "metadata": {},
     "output_type": "execute_result"
    }
   ],
   "source": [
    "devices_cat.shape"
   ]
  },
  {
   "cell_type": "code",
   "execution_count": 135,
   "metadata": {
    "collapsed": false
   },
   "outputs": [
    {
     "data": {
      "text/html": [
       "<div>\n",
       "<table border=\"1\" class=\"dataframe\">\n",
       "  <thead>\n",
       "    <tr style=\"text-align: right;\">\n",
       "      <th></th>\n",
       "      <th>event_id</th>\n",
       "      <th>app_id</th>\n",
       "      <th>is_active</th>\n",
       "      <th>device_id</th>\n",
       "      <th>timestamp</th>\n",
       "      <th>longitude</th>\n",
       "      <th>latitude</th>\n",
       "      <th>time_hour</th>\n",
       "      <th>week_day</th>\n",
       "      <th>label_id</th>\n",
       "      <th>category</th>\n",
       "    </tr>\n",
       "  </thead>\n",
       "  <tbody>\n",
       "    <tr>\n",
       "      <th>0</th>\n",
       "      <td>2</td>\n",
       "      <td>5927333115845830913</td>\n",
       "      <td>1</td>\n",
       "      <td>-6401643145415154744</td>\n",
       "      <td>2016-05-01 00:54:12</td>\n",
       "      <td>103.65</td>\n",
       "      <td>30.97</td>\n",
       "      <td>0</td>\n",
       "      <td>Sunday</td>\n",
       "      <td>549</td>\n",
       "      <td>Property Industry 1.0</td>\n",
       "    </tr>\n",
       "    <tr>\n",
       "      <th>1</th>\n",
       "      <td>2</td>\n",
       "      <td>5927333115845830913</td>\n",
       "      <td>1</td>\n",
       "      <td>-6401643145415154744</td>\n",
       "      <td>2016-05-01 00:54:12</td>\n",
       "      <td>103.65</td>\n",
       "      <td>30.97</td>\n",
       "      <td>0</td>\n",
       "      <td>Sunday</td>\n",
       "      <td>710</td>\n",
       "      <td>Relatives 1</td>\n",
       "    </tr>\n",
       "    <tr>\n",
       "      <th>2</th>\n",
       "      <td>2</td>\n",
       "      <td>5927333115845830913</td>\n",
       "      <td>1</td>\n",
       "      <td>-6401643145415154744</td>\n",
       "      <td>2016-05-01 00:54:12</td>\n",
       "      <td>103.65</td>\n",
       "      <td>30.97</td>\n",
       "      <td>0</td>\n",
       "      <td>Sunday</td>\n",
       "      <td>704</td>\n",
       "      <td>Property Industry 2.0</td>\n",
       "    </tr>\n",
       "    <tr>\n",
       "      <th>3</th>\n",
       "      <td>2</td>\n",
       "      <td>5927333115845830913</td>\n",
       "      <td>1</td>\n",
       "      <td>-6401643145415154744</td>\n",
       "      <td>2016-05-01 00:54:12</td>\n",
       "      <td>103.65</td>\n",
       "      <td>30.97</td>\n",
       "      <td>0</td>\n",
       "      <td>Sunday</td>\n",
       "      <td>548</td>\n",
       "      <td>Industry tag</td>\n",
       "    </tr>\n",
       "    <tr>\n",
       "      <th>4</th>\n",
       "      <td>2</td>\n",
       "      <td>5927333115845830913</td>\n",
       "      <td>1</td>\n",
       "      <td>-6401643145415154744</td>\n",
       "      <td>2016-05-01 00:54:12</td>\n",
       "      <td>103.65</td>\n",
       "      <td>30.97</td>\n",
       "      <td>0</td>\n",
       "      <td>Sunday</td>\n",
       "      <td>172</td>\n",
       "      <td>IM</td>\n",
       "    </tr>\n",
       "  </tbody>\n",
       "</table>\n",
       "</div>"
      ],
      "text/plain": [
       "   event_id               app_id  is_active            device_id  \\\n",
       "0         2  5927333115845830913          1 -6401643145415154744   \n",
       "1         2  5927333115845830913          1 -6401643145415154744   \n",
       "2         2  5927333115845830913          1 -6401643145415154744   \n",
       "3         2  5927333115845830913          1 -6401643145415154744   \n",
       "4         2  5927333115845830913          1 -6401643145415154744   \n",
       "\n",
       "            timestamp  longitude  latitude  time_hour week_day  label_id  \\\n",
       "0 2016-05-01 00:54:12     103.65     30.97          0   Sunday       549   \n",
       "1 2016-05-01 00:54:12     103.65     30.97          0   Sunday       710   \n",
       "2 2016-05-01 00:54:12     103.65     30.97          0   Sunday       704   \n",
       "3 2016-05-01 00:54:12     103.65     30.97          0   Sunday       548   \n",
       "4 2016-05-01 00:54:12     103.65     30.97          0   Sunday       172   \n",
       "\n",
       "                category  \n",
       "0  Property Industry 1.0  \n",
       "1            Relatives 1  \n",
       "2  Property Industry 2.0  \n",
       "3           Industry tag  \n",
       "4                     IM  "
      ]
     },
     "execution_count": 135,
     "metadata": {},
     "output_type": "execute_result"
    }
   ],
   "source": [
    "devices_cat.head()"
   ]
  },
  {
   "cell_type": "code",
   "execution_count": 136,
   "metadata": {
    "collapsed": true
   },
   "outputs": [],
   "source": [
    "#Since the merge operation and the given data files are very large, we consider 100000 entries to do on our analysis on a small chunk of data\n",
    "devices_cat[71276435:].to_csv('dc.csv')"
   ]
  },
  {
   "cell_type": "code",
   "execution_count": 137,
   "metadata": {
    "collapsed": true
   },
   "outputs": [],
   "source": [
    "dc= pd.read_csv('/Users/Adiii/Documents/Springboard/Capstone Project/dc.csv')"
   ]
  },
  {
   "cell_type": "code",
   "execution_count": 138,
   "metadata": {
    "collapsed": false
   },
   "outputs": [
    {
     "data": {
      "text/html": [
       "<div>\n",
       "<table border=\"1\" class=\"dataframe\">\n",
       "  <thead>\n",
       "    <tr style=\"text-align: right;\">\n",
       "      <th></th>\n",
       "      <th>Unnamed: 0</th>\n",
       "      <th>event_id</th>\n",
       "      <th>app_id</th>\n",
       "      <th>is_active</th>\n",
       "      <th>device_id</th>\n",
       "      <th>timestamp</th>\n",
       "      <th>longitude</th>\n",
       "      <th>latitude</th>\n",
       "      <th>label_id</th>\n",
       "      <th>category</th>\n",
       "    </tr>\n",
       "  </thead>\n",
       "  <tbody>\n",
       "    <tr>\n",
       "      <th>0</th>\n",
       "      <td>71276435</td>\n",
       "      <td>558879</td>\n",
       "      <td>1128742343711836645</td>\n",
       "      <td>1</td>\n",
       "      <td>7213528685545856354</td>\n",
       "      <td>2016-05-03 19:39:48</td>\n",
       "      <td>123.78</td>\n",
       "      <td>41.86</td>\n",
       "      <td>306</td>\n",
       "      <td>unknown</td>\n",
       "    </tr>\n",
       "    <tr>\n",
       "      <th>1</th>\n",
       "      <td>71276436</td>\n",
       "      <td>558879</td>\n",
       "      <td>1128742343711836645</td>\n",
       "      <td>1</td>\n",
       "      <td>7213528685545856354</td>\n",
       "      <td>2016-05-03 19:39:48</td>\n",
       "      <td>123.78</td>\n",
       "      <td>41.86</td>\n",
       "      <td>302</td>\n",
       "      <td>unknown</td>\n",
       "    </tr>\n",
       "    <tr>\n",
       "      <th>2</th>\n",
       "      <td>71276437</td>\n",
       "      <td>558879</td>\n",
       "      <td>1128742343711836645</td>\n",
       "      <td>1</td>\n",
       "      <td>7213528685545856354</td>\n",
       "      <td>2016-05-03 19:39:48</td>\n",
       "      <td>123.78</td>\n",
       "      <td>41.86</td>\n",
       "      <td>857</td>\n",
       "      <td>free</td>\n",
       "    </tr>\n",
       "    <tr>\n",
       "      <th>3</th>\n",
       "      <td>71276438</td>\n",
       "      <td>558879</td>\n",
       "      <td>1128742343711836645</td>\n",
       "      <td>1</td>\n",
       "      <td>7213528685545856354</td>\n",
       "      <td>2016-05-03 19:39:48</td>\n",
       "      <td>123.78</td>\n",
       "      <td>41.86</td>\n",
       "      <td>854</td>\n",
       "      <td>Property Industry new</td>\n",
       "    </tr>\n",
       "    <tr>\n",
       "      <th>4</th>\n",
       "      <td>71276439</td>\n",
       "      <td>558879</td>\n",
       "      <td>1128742343711836645</td>\n",
       "      <td>1</td>\n",
       "      <td>7213528685545856354</td>\n",
       "      <td>2016-05-03 19:39:48</td>\n",
       "      <td>123.78</td>\n",
       "      <td>41.86</td>\n",
       "      <td>209</td>\n",
       "      <td>pictures photography</td>\n",
       "    </tr>\n",
       "  </tbody>\n",
       "</table>\n",
       "</div>"
      ],
      "text/plain": [
       "   Unnamed: 0  event_id               app_id  is_active            device_id  \\\n",
       "0    71276435    558879  1128742343711836645          1  7213528685545856354   \n",
       "1    71276436    558879  1128742343711836645          1  7213528685545856354   \n",
       "2    71276437    558879  1128742343711836645          1  7213528685545856354   \n",
       "3    71276438    558879  1128742343711836645          1  7213528685545856354   \n",
       "4    71276439    558879  1128742343711836645          1  7213528685545856354   \n",
       "\n",
       "             timestamp  longitude  latitude  label_id               category  \n",
       "0  2016-05-03 19:39:48     123.78     41.86       306                unknown  \n",
       "1  2016-05-03 19:39:48     123.78     41.86       302                unknown  \n",
       "2  2016-05-03 19:39:48     123.78     41.86       857                   free  \n",
       "3  2016-05-03 19:39:48     123.78     41.86       854  Property Industry new  \n",
       "4  2016-05-03 19:39:48     123.78     41.86       209   pictures photography  "
      ]
     },
     "execution_count": 138,
     "metadata": {},
     "output_type": "execute_result"
    }
   ],
   "source": [
    "dc.head()"
   ]
  },
  {
   "cell_type": "code",
   "execution_count": 139,
   "metadata": {
    "collapsed": true
   },
   "outputs": [],
   "source": [
    "s=pd.to_datetime(dc.timestamp)"
   ]
  },
  {
   "cell_type": "code",
   "execution_count": 140,
   "metadata": {
    "collapsed": true
   },
   "outputs": [],
   "source": [
    "#Feature Engineering (Extracting important features from timestamp)\n",
    "dc['day']=s.dt.day"
   ]
  },
  {
   "cell_type": "code",
   "execution_count": 141,
   "metadata": {
    "collapsed": true
   },
   "outputs": [],
   "source": [
    "dc['month']=s.dt.month"
   ]
  },
  {
   "cell_type": "code",
   "execution_count": 142,
   "metadata": {
    "collapsed": true
   },
   "outputs": [],
   "source": [
    "dc['year']=s.dt.year"
   ]
  },
  {
   "cell_type": "code",
   "execution_count": 143,
   "metadata": {
    "collapsed": true
   },
   "outputs": [],
   "source": [
    "dc['hour']=s.dt.hour"
   ]
  },
  {
   "cell_type": "code",
   "execution_count": 144,
   "metadata": {
    "collapsed": true
   },
   "outputs": [],
   "source": [
    "dc['minute']=s.dt.minute"
   ]
  },
  {
   "cell_type": "code",
   "execution_count": 145,
   "metadata": {
    "collapsed": false,
    "scrolled": true
   },
   "outputs": [
    {
     "data": {
      "text/html": [
       "<div>\n",
       "<table border=\"1\" class=\"dataframe\">\n",
       "  <thead>\n",
       "    <tr style=\"text-align: right;\">\n",
       "      <th></th>\n",
       "      <th>Unnamed: 0</th>\n",
       "      <th>event_id</th>\n",
       "      <th>app_id</th>\n",
       "      <th>is_active</th>\n",
       "      <th>device_id</th>\n",
       "      <th>timestamp</th>\n",
       "      <th>longitude</th>\n",
       "      <th>latitude</th>\n",
       "      <th>label_id</th>\n",
       "      <th>category</th>\n",
       "      <th>day</th>\n",
       "      <th>month</th>\n",
       "      <th>year</th>\n",
       "      <th>hour</th>\n",
       "      <th>minute</th>\n",
       "    </tr>\n",
       "  </thead>\n",
       "  <tbody>\n",
       "    <tr>\n",
       "      <th>0</th>\n",
       "      <td>71276435</td>\n",
       "      <td>558879</td>\n",
       "      <td>1128742343711836645</td>\n",
       "      <td>1</td>\n",
       "      <td>7213528685545856354</td>\n",
       "      <td>2016-05-03 19:39:48</td>\n",
       "      <td>123.78</td>\n",
       "      <td>41.86</td>\n",
       "      <td>306</td>\n",
       "      <td>unknown</td>\n",
       "      <td>3</td>\n",
       "      <td>5</td>\n",
       "      <td>2016</td>\n",
       "      <td>19</td>\n",
       "      <td>39</td>\n",
       "    </tr>\n",
       "    <tr>\n",
       "      <th>1</th>\n",
       "      <td>71276436</td>\n",
       "      <td>558879</td>\n",
       "      <td>1128742343711836645</td>\n",
       "      <td>1</td>\n",
       "      <td>7213528685545856354</td>\n",
       "      <td>2016-05-03 19:39:48</td>\n",
       "      <td>123.78</td>\n",
       "      <td>41.86</td>\n",
       "      <td>302</td>\n",
       "      <td>unknown</td>\n",
       "      <td>3</td>\n",
       "      <td>5</td>\n",
       "      <td>2016</td>\n",
       "      <td>19</td>\n",
       "      <td>39</td>\n",
       "    </tr>\n",
       "    <tr>\n",
       "      <th>2</th>\n",
       "      <td>71276437</td>\n",
       "      <td>558879</td>\n",
       "      <td>1128742343711836645</td>\n",
       "      <td>1</td>\n",
       "      <td>7213528685545856354</td>\n",
       "      <td>2016-05-03 19:39:48</td>\n",
       "      <td>123.78</td>\n",
       "      <td>41.86</td>\n",
       "      <td>857</td>\n",
       "      <td>free</td>\n",
       "      <td>3</td>\n",
       "      <td>5</td>\n",
       "      <td>2016</td>\n",
       "      <td>19</td>\n",
       "      <td>39</td>\n",
       "    </tr>\n",
       "    <tr>\n",
       "      <th>3</th>\n",
       "      <td>71276438</td>\n",
       "      <td>558879</td>\n",
       "      <td>1128742343711836645</td>\n",
       "      <td>1</td>\n",
       "      <td>7213528685545856354</td>\n",
       "      <td>2016-05-03 19:39:48</td>\n",
       "      <td>123.78</td>\n",
       "      <td>41.86</td>\n",
       "      <td>854</td>\n",
       "      <td>Property Industry new</td>\n",
       "      <td>3</td>\n",
       "      <td>5</td>\n",
       "      <td>2016</td>\n",
       "      <td>19</td>\n",
       "      <td>39</td>\n",
       "    </tr>\n",
       "    <tr>\n",
       "      <th>4</th>\n",
       "      <td>71276439</td>\n",
       "      <td>558879</td>\n",
       "      <td>1128742343711836645</td>\n",
       "      <td>1</td>\n",
       "      <td>7213528685545856354</td>\n",
       "      <td>2016-05-03 19:39:48</td>\n",
       "      <td>123.78</td>\n",
       "      <td>41.86</td>\n",
       "      <td>209</td>\n",
       "      <td>pictures photography</td>\n",
       "      <td>3</td>\n",
       "      <td>5</td>\n",
       "      <td>2016</td>\n",
       "      <td>19</td>\n",
       "      <td>39</td>\n",
       "    </tr>\n",
       "  </tbody>\n",
       "</table>\n",
       "</div>"
      ],
      "text/plain": [
       "   Unnamed: 0  event_id               app_id  is_active            device_id  \\\n",
       "0    71276435    558879  1128742343711836645          1  7213528685545856354   \n",
       "1    71276436    558879  1128742343711836645          1  7213528685545856354   \n",
       "2    71276437    558879  1128742343711836645          1  7213528685545856354   \n",
       "3    71276438    558879  1128742343711836645          1  7213528685545856354   \n",
       "4    71276439    558879  1128742343711836645          1  7213528685545856354   \n",
       "\n",
       "             timestamp  longitude  latitude  label_id               category  \\\n",
       "0  2016-05-03 19:39:48     123.78     41.86       306                unknown   \n",
       "1  2016-05-03 19:39:48     123.78     41.86       302                unknown   \n",
       "2  2016-05-03 19:39:48     123.78     41.86       857                   free   \n",
       "3  2016-05-03 19:39:48     123.78     41.86       854  Property Industry new   \n",
       "4  2016-05-03 19:39:48     123.78     41.86       209   pictures photography   \n",
       "\n",
       "   day  month  year  hour  minute  \n",
       "0    3      5  2016    19      39  \n",
       "1    3      5  2016    19      39  \n",
       "2    3      5  2016    19      39  \n",
       "3    3      5  2016    19      39  \n",
       "4    3      5  2016    19      39  "
      ]
     },
     "execution_count": 145,
     "metadata": {},
     "output_type": "execute_result"
    }
   ],
   "source": [
    "dc.head()"
   ]
  },
  {
   "cell_type": "code",
   "execution_count": 149,
   "metadata": {
    "collapsed": true
   },
   "outputs": [],
   "source": [
    "merge[:100000].to_csv('merge.csv')"
   ]
  },
  {
   "cell_type": "code",
   "execution_count": 150,
   "metadata": {
    "collapsed": true
   },
   "outputs": [],
   "source": [
    "merge_trunc=pd.read_csv('/Users/Adiii/Documents/Springboard/Capstone Project/merge.csv')"
   ]
  },
  {
   "cell_type": "code",
   "execution_count": 151,
   "metadata": {
    "collapsed": false,
    "scrolled": true
   },
   "outputs": [
    {
     "data": {
      "text/html": [
       "<div>\n",
       "<table border=\"1\" class=\"dataframe\">\n",
       "  <thead>\n",
       "    <tr style=\"text-align: right;\">\n",
       "      <th></th>\n",
       "      <th>Unnamed: 0</th>\n",
       "      <th>event_id</th>\n",
       "      <th>device_id</th>\n",
       "      <th>timestamp</th>\n",
       "      <th>longitude</th>\n",
       "      <th>latitude</th>\n",
       "      <th>gender</th>\n",
       "      <th>age</th>\n",
       "      <th>group</th>\n",
       "      <th>phone_brand</th>\n",
       "      <th>device_model</th>\n",
       "    </tr>\n",
       "  </thead>\n",
       "  <tbody>\n",
       "    <tr>\n",
       "      <th>0</th>\n",
       "      <td>0</td>\n",
       "      <td>1</td>\n",
       "      <td>29182687948017175</td>\n",
       "      <td>2016-05-01 00:55:25</td>\n",
       "      <td>121.38</td>\n",
       "      <td>31.24</td>\n",
       "      <td>M</td>\n",
       "      <td>46.0</td>\n",
       "      <td>M39+</td>\n",
       "      <td>Xiaomi</td>\n",
       "      <td>红米note</td>\n",
       "    </tr>\n",
       "    <tr>\n",
       "      <th>1</th>\n",
       "      <td>1</td>\n",
       "      <td>2</td>\n",
       "      <td>-6401643145415154744</td>\n",
       "      <td>2016-05-01 00:54:12</td>\n",
       "      <td>103.65</td>\n",
       "      <td>30.97</td>\n",
       "      <td>NaN</td>\n",
       "      <td>NaN</td>\n",
       "      <td>NaN</td>\n",
       "      <td>samsung</td>\n",
       "      <td>Galaxy Grand Prime</td>\n",
       "    </tr>\n",
       "    <tr>\n",
       "      <th>2</th>\n",
       "      <td>2</td>\n",
       "      <td>3</td>\n",
       "      <td>-4833982096941402721</td>\n",
       "      <td>2016-05-01 00:08:05</td>\n",
       "      <td>106.60</td>\n",
       "      <td>29.70</td>\n",
       "      <td>M</td>\n",
       "      <td>47.0</td>\n",
       "      <td>M39+</td>\n",
       "      <td>Meizu</td>\n",
       "      <td>MX4 Pro</td>\n",
       "    </tr>\n",
       "    <tr>\n",
       "      <th>3</th>\n",
       "      <td>3</td>\n",
       "      <td>4</td>\n",
       "      <td>-6815121365017318426</td>\n",
       "      <td>2016-05-01 00:06:40</td>\n",
       "      <td>104.27</td>\n",
       "      <td>23.28</td>\n",
       "      <td>M</td>\n",
       "      <td>30.0</td>\n",
       "      <td>M29-31</td>\n",
       "      <td>vivo</td>\n",
       "      <td>Y27</td>\n",
       "    </tr>\n",
       "    <tr>\n",
       "      <th>4</th>\n",
       "      <td>4</td>\n",
       "      <td>5</td>\n",
       "      <td>-5373797595892518570</td>\n",
       "      <td>2016-05-01 00:07:18</td>\n",
       "      <td>115.88</td>\n",
       "      <td>28.66</td>\n",
       "      <td>F</td>\n",
       "      <td>28.0</td>\n",
       "      <td>F27-28</td>\n",
       "      <td>Coolpad</td>\n",
       "      <td>大神F2</td>\n",
       "    </tr>\n",
       "  </tbody>\n",
       "</table>\n",
       "</div>"
      ],
      "text/plain": [
       "   Unnamed: 0  event_id            device_id            timestamp  longitude  \\\n",
       "0           0         1    29182687948017175  2016-05-01 00:55:25     121.38   \n",
       "1           1         2 -6401643145415154744  2016-05-01 00:54:12     103.65   \n",
       "2           2         3 -4833982096941402721  2016-05-01 00:08:05     106.60   \n",
       "3           3         4 -6815121365017318426  2016-05-01 00:06:40     104.27   \n",
       "4           4         5 -5373797595892518570  2016-05-01 00:07:18     115.88   \n",
       "\n",
       "   latitude gender   age   group phone_brand        device_model  \n",
       "0     31.24      M  46.0    M39+      Xiaomi              红米note  \n",
       "1     30.97    NaN   NaN     NaN     samsung  Galaxy Grand Prime  \n",
       "2     29.70      M  47.0    M39+       Meizu             MX4 Pro  \n",
       "3     23.28      M  30.0  M29-31        vivo                 Y27  \n",
       "4     28.66      F  28.0  F27-28     Coolpad                大神F2  "
      ]
     },
     "execution_count": 151,
     "metadata": {},
     "output_type": "execute_result"
    }
   ],
   "source": [
    "merge_trunc.head()"
   ]
  },
  {
   "cell_type": "code",
   "execution_count": 153,
   "metadata": {
    "collapsed": false
   },
   "outputs": [],
   "source": [
    "#Merge operation on the two truncated files\n",
    "dev_cat_merge=pd.merge(dc, merge_trunc, on='device_id', how='left')"
   ]
  },
  {
   "cell_type": "code",
   "execution_count": 154,
   "metadata": {
    "collapsed": false
   },
   "outputs": [
    {
     "data": {
      "text/html": [
       "<div>\n",
       "<table border=\"1\" class=\"dataframe\">\n",
       "  <thead>\n",
       "    <tr style=\"text-align: right;\">\n",
       "      <th></th>\n",
       "      <th>Unnamed: 0_x</th>\n",
       "      <th>event_id_x</th>\n",
       "      <th>app_id</th>\n",
       "      <th>is_active</th>\n",
       "      <th>device_id</th>\n",
       "      <th>timestamp_x</th>\n",
       "      <th>longitude_x</th>\n",
       "      <th>latitude_x</th>\n",
       "      <th>label_id</th>\n",
       "      <th>category</th>\n",
       "      <th>...</th>\n",
       "      <th>Unnamed: 0_y</th>\n",
       "      <th>event_id_y</th>\n",
       "      <th>timestamp_y</th>\n",
       "      <th>longitude_y</th>\n",
       "      <th>latitude_y</th>\n",
       "      <th>gender</th>\n",
       "      <th>age</th>\n",
       "      <th>group</th>\n",
       "      <th>phone_brand</th>\n",
       "      <th>device_model</th>\n",
       "    </tr>\n",
       "  </thead>\n",
       "  <tbody>\n",
       "    <tr>\n",
       "      <th>0</th>\n",
       "      <td>71276435</td>\n",
       "      <td>558879</td>\n",
       "      <td>1128742343711836645</td>\n",
       "      <td>1</td>\n",
       "      <td>7213528685545856354</td>\n",
       "      <td>2016-05-03 19:39:48</td>\n",
       "      <td>123.78</td>\n",
       "      <td>41.86</td>\n",
       "      <td>306</td>\n",
       "      <td>unknown</td>\n",
       "      <td>...</td>\n",
       "      <td>15490.0</td>\n",
       "      <td>15399.0</td>\n",
       "      <td>2016-05-06 14:40:09</td>\n",
       "      <td>123.78</td>\n",
       "      <td>41.86</td>\n",
       "      <td>NaN</td>\n",
       "      <td>NaN</td>\n",
       "      <td>NaN</td>\n",
       "      <td>Meizu</td>\n",
       "      <td>魅蓝NOTE</td>\n",
       "    </tr>\n",
       "    <tr>\n",
       "      <th>1</th>\n",
       "      <td>71276435</td>\n",
       "      <td>558879</td>\n",
       "      <td>1128742343711836645</td>\n",
       "      <td>1</td>\n",
       "      <td>7213528685545856354</td>\n",
       "      <td>2016-05-03 19:39:48</td>\n",
       "      <td>123.78</td>\n",
       "      <td>41.86</td>\n",
       "      <td>306</td>\n",
       "      <td>unknown</td>\n",
       "      <td>...</td>\n",
       "      <td>83836.0</td>\n",
       "      <td>83364.0</td>\n",
       "      <td>2016-05-03 07:46:32</td>\n",
       "      <td>123.78</td>\n",
       "      <td>41.86</td>\n",
       "      <td>NaN</td>\n",
       "      <td>NaN</td>\n",
       "      <td>NaN</td>\n",
       "      <td>Meizu</td>\n",
       "      <td>魅蓝NOTE</td>\n",
       "    </tr>\n",
       "    <tr>\n",
       "      <th>2</th>\n",
       "      <td>71276436</td>\n",
       "      <td>558879</td>\n",
       "      <td>1128742343711836645</td>\n",
       "      <td>1</td>\n",
       "      <td>7213528685545856354</td>\n",
       "      <td>2016-05-03 19:39:48</td>\n",
       "      <td>123.78</td>\n",
       "      <td>41.86</td>\n",
       "      <td>302</td>\n",
       "      <td>unknown</td>\n",
       "      <td>...</td>\n",
       "      <td>15490.0</td>\n",
       "      <td>15399.0</td>\n",
       "      <td>2016-05-06 14:40:09</td>\n",
       "      <td>123.78</td>\n",
       "      <td>41.86</td>\n",
       "      <td>NaN</td>\n",
       "      <td>NaN</td>\n",
       "      <td>NaN</td>\n",
       "      <td>Meizu</td>\n",
       "      <td>魅蓝NOTE</td>\n",
       "    </tr>\n",
       "    <tr>\n",
       "      <th>3</th>\n",
       "      <td>71276436</td>\n",
       "      <td>558879</td>\n",
       "      <td>1128742343711836645</td>\n",
       "      <td>1</td>\n",
       "      <td>7213528685545856354</td>\n",
       "      <td>2016-05-03 19:39:48</td>\n",
       "      <td>123.78</td>\n",
       "      <td>41.86</td>\n",
       "      <td>302</td>\n",
       "      <td>unknown</td>\n",
       "      <td>...</td>\n",
       "      <td>83836.0</td>\n",
       "      <td>83364.0</td>\n",
       "      <td>2016-05-03 07:46:32</td>\n",
       "      <td>123.78</td>\n",
       "      <td>41.86</td>\n",
       "      <td>NaN</td>\n",
       "      <td>NaN</td>\n",
       "      <td>NaN</td>\n",
       "      <td>Meizu</td>\n",
       "      <td>魅蓝NOTE</td>\n",
       "    </tr>\n",
       "    <tr>\n",
       "      <th>4</th>\n",
       "      <td>71276437</td>\n",
       "      <td>558879</td>\n",
       "      <td>1128742343711836645</td>\n",
       "      <td>1</td>\n",
       "      <td>7213528685545856354</td>\n",
       "      <td>2016-05-03 19:39:48</td>\n",
       "      <td>123.78</td>\n",
       "      <td>41.86</td>\n",
       "      <td>857</td>\n",
       "      <td>free</td>\n",
       "      <td>...</td>\n",
       "      <td>15490.0</td>\n",
       "      <td>15399.0</td>\n",
       "      <td>2016-05-06 14:40:09</td>\n",
       "      <td>123.78</td>\n",
       "      <td>41.86</td>\n",
       "      <td>NaN</td>\n",
       "      <td>NaN</td>\n",
       "      <td>NaN</td>\n",
       "      <td>Meizu</td>\n",
       "      <td>魅蓝NOTE</td>\n",
       "    </tr>\n",
       "  </tbody>\n",
       "</table>\n",
       "<p>5 rows × 25 columns</p>\n",
       "</div>"
      ],
      "text/plain": [
       "   Unnamed: 0_x  event_id_x               app_id  is_active  \\\n",
       "0      71276435      558879  1128742343711836645          1   \n",
       "1      71276435      558879  1128742343711836645          1   \n",
       "2      71276436      558879  1128742343711836645          1   \n",
       "3      71276436      558879  1128742343711836645          1   \n",
       "4      71276437      558879  1128742343711836645          1   \n",
       "\n",
       "             device_id          timestamp_x  longitude_x  latitude_x  \\\n",
       "0  7213528685545856354  2016-05-03 19:39:48       123.78       41.86   \n",
       "1  7213528685545856354  2016-05-03 19:39:48       123.78       41.86   \n",
       "2  7213528685545856354  2016-05-03 19:39:48       123.78       41.86   \n",
       "3  7213528685545856354  2016-05-03 19:39:48       123.78       41.86   \n",
       "4  7213528685545856354  2016-05-03 19:39:48       123.78       41.86   \n",
       "\n",
       "   label_id category      ...       Unnamed: 0_y  event_id_y  \\\n",
       "0       306  unknown      ...            15490.0     15399.0   \n",
       "1       306  unknown      ...            83836.0     83364.0   \n",
       "2       302  unknown      ...            15490.0     15399.0   \n",
       "3       302  unknown      ...            83836.0     83364.0   \n",
       "4       857     free      ...            15490.0     15399.0   \n",
       "\n",
       "           timestamp_y  longitude_y  latitude_y  gender  age group  \\\n",
       "0  2016-05-06 14:40:09       123.78       41.86     NaN  NaN   NaN   \n",
       "1  2016-05-03 07:46:32       123.78       41.86     NaN  NaN   NaN   \n",
       "2  2016-05-06 14:40:09       123.78       41.86     NaN  NaN   NaN   \n",
       "3  2016-05-03 07:46:32       123.78       41.86     NaN  NaN   NaN   \n",
       "4  2016-05-06 14:40:09       123.78       41.86     NaN  NaN   NaN   \n",
       "\n",
       "   phone_brand  device_model  \n",
       "0        Meizu        魅蓝NOTE  \n",
       "1        Meizu        魅蓝NOTE  \n",
       "2        Meizu        魅蓝NOTE  \n",
       "3        Meizu        魅蓝NOTE  \n",
       "4        Meizu        魅蓝NOTE  \n",
       "\n",
       "[5 rows x 25 columns]"
      ]
     },
     "execution_count": 154,
     "metadata": {},
     "output_type": "execute_result"
    }
   ],
   "source": [
    "dev_cat_merge.head()"
   ]
  },
  {
   "cell_type": "code",
   "execution_count": 155,
   "metadata": {
    "collapsed": false
   },
   "outputs": [],
   "source": [
    "#We perfrom a groupby to get a new feature, 'count' of various apps a particular device uses\n",
    "g=dev_cat_merge.groupby(['device_id','category','label_id','app_id'])['app_id'].agg(['size'])"
   ]
  },
  {
   "cell_type": "code",
   "execution_count": 156,
   "metadata": {
    "collapsed": false
   },
   "outputs": [
    {
     "data": {
      "text/html": [
       "<div>\n",
       "<table border=\"1\" class=\"dataframe\">\n",
       "  <thead>\n",
       "    <tr style=\"text-align: right;\">\n",
       "      <th></th>\n",
       "      <th></th>\n",
       "      <th></th>\n",
       "      <th></th>\n",
       "      <th>size</th>\n",
       "    </tr>\n",
       "    <tr>\n",
       "      <th>device_id</th>\n",
       "      <th>category</th>\n",
       "      <th>label_id</th>\n",
       "      <th>app_id</th>\n",
       "      <th></th>\n",
       "    </tr>\n",
       "  </thead>\n",
       "  <tbody>\n",
       "    <tr>\n",
       "      <th>-9221767098072603291</th>\n",
       "      <th>Health Management</th>\n",
       "      <th>207</th>\n",
       "      <th>-3753877773376207044</th>\n",
       "      <td>6</td>\n",
       "    </tr>\n",
       "    <tr>\n",
       "      <th rowspan=\"8\" valign=\"top\">-9221079146476055829</th>\n",
       "      <th rowspan=\"2\" valign=\"top\">Industry tag</th>\n",
       "      <th rowspan=\"2\" valign=\"top\">548</th>\n",
       "      <th>-8775272028048552284</th>\n",
       "      <td>2</td>\n",
       "    </tr>\n",
       "    <tr>\n",
       "      <th>-4576330983666691135</th>\n",
       "      <td>1</td>\n",
       "    </tr>\n",
       "    <tr>\n",
       "      <th>Maternal and child population</th>\n",
       "      <th>840</th>\n",
       "      <th>-4576330983666691135</th>\n",
       "      <td>1</td>\n",
       "    </tr>\n",
       "    <tr>\n",
       "      <th>Personal Effectiveness</th>\n",
       "      <th>870</th>\n",
       "      <th>-8775272028048552284</th>\n",
       "      <td>2</td>\n",
       "    </tr>\n",
       "    <tr>\n",
       "      <th>Pregnant baby</th>\n",
       "      <th>843</th>\n",
       "      <th>-4576330983666691135</th>\n",
       "      <td>1</td>\n",
       "    </tr>\n",
       "    <tr>\n",
       "      <th>Property Industry new</th>\n",
       "      <th>854</th>\n",
       "      <th>-8775272028048552284</th>\n",
       "      <td>2</td>\n",
       "    </tr>\n",
       "    <tr>\n",
       "      <th rowspan=\"2\" valign=\"top\">unknown</th>\n",
       "      <th>302</th>\n",
       "      <th>-4576330983666691135</th>\n",
       "      <td>1</td>\n",
       "    </tr>\n",
       "    <tr>\n",
       "      <th>318</th>\n",
       "      <th>-4576330983666691135</th>\n",
       "      <td>1</td>\n",
       "    </tr>\n",
       "    <tr>\n",
       "      <th>-9220830859283101130</th>\n",
       "      <th>Cute style comic</th>\n",
       "      <th>100</th>\n",
       "      <th>4551351600893140022</th>\n",
       "      <td>1</td>\n",
       "    </tr>\n",
       "  </tbody>\n",
       "</table>\n",
       "</div>"
      ],
      "text/plain": [
       "                                                                                  size\n",
       "device_id            category                      label_id app_id                    \n",
       "-9221767098072603291 Health Management             207      -3753877773376207044     6\n",
       "-9221079146476055829 Industry tag                  548      -8775272028048552284     2\n",
       "                                                            -4576330983666691135     1\n",
       "                     Maternal and child population 840      -4576330983666691135     1\n",
       "                     Personal Effectiveness        870      -8775272028048552284     2\n",
       "                     Pregnant baby                 843      -4576330983666691135     1\n",
       "                     Property Industry new         854      -8775272028048552284     2\n",
       "                     unknown                       302      -4576330983666691135     1\n",
       "                                                   318      -4576330983666691135     1\n",
       "-9220830859283101130 Cute style comic              100       4551351600893140022     1"
      ]
     },
     "execution_count": 156,
     "metadata": {},
     "output_type": "execute_result"
    }
   ],
   "source": [
    "g.head(10)"
   ]
  },
  {
   "cell_type": "code",
   "execution_count": 112,
   "metadata": {
    "collapsed": true
   },
   "outputs": [],
   "source": [
    "gd = active_apps.groupby(['device_id'])"
   ]
  },
  {
   "cell_type": "code",
   "execution_count": 113,
   "metadata": {
    "collapsed": true
   },
   "outputs": [],
   "source": [
    "apps_per_device = gd.app_id.nunique()"
   ]
  },
  {
   "cell_type": "code",
   "execution_count": 114,
   "metadata": {
    "collapsed": false
   },
   "outputs": [
    {
     "data": {
      "text/plain": [
       "count    60669.000000\n",
       "mean        15.006972\n",
       "std         15.086517\n",
       "min          1.000000\n",
       "25%          5.000000\n",
       "50%         12.000000\n",
       "75%         21.000000\n",
       "max       1342.000000\n",
       "Name: app_id, dtype: float64"
      ]
     },
     "execution_count": 114,
     "metadata": {},
     "output_type": "execute_result"
    }
   ],
   "source": [
    "apps_per_device.describe()"
   ]
  },
  {
   "cell_type": "markdown",
   "metadata": {},
   "source": [
    "Filtering out the devices that are active, we find that there are 60669 active apps on devices.\n",
    "The maximum number of app on a single device is 1342. Finally, we observe that 75% of devices contain at most 21 apps."
   ]
  },
  {
   "cell_type": "code",
   "execution_count": 115,
   "metadata": {
    "collapsed": true
   },
   "outputs": [],
   "source": [
    "cat_devices = active_apps.groupby(['device_id', 'app_id']).first().reset_index()"
   ]
  },
  {
   "cell_type": "code",
   "execution_count": 116,
   "metadata": {
    "collapsed": false
   },
   "outputs": [
    {
     "data": {
      "text/html": [
       "<div>\n",
       "<table border=\"1\" class=\"dataframe\">\n",
       "  <thead>\n",
       "    <tr style=\"text-align: right;\">\n",
       "      <th></th>\n",
       "      <th>device_id</th>\n",
       "      <th>app_id</th>\n",
       "      <th>event_id</th>\n",
       "      <th>is_active</th>\n",
       "      <th>timestamp</th>\n",
       "      <th>longitude</th>\n",
       "      <th>latitude</th>\n",
       "      <th>time_hour</th>\n",
       "      <th>week_day</th>\n",
       "    </tr>\n",
       "  </thead>\n",
       "  <tbody>\n",
       "    <tr>\n",
       "      <th>0</th>\n",
       "      <td>-9222956879900151005</td>\n",
       "      <td>-8670045756254444686</td>\n",
       "      <td>662820</td>\n",
       "      <td>1</td>\n",
       "      <td>2016-05-07 12:04:46</td>\n",
       "      <td>113.24</td>\n",
       "      <td>23.19</td>\n",
       "      <td>12</td>\n",
       "      <td>Saturday</td>\n",
       "    </tr>\n",
       "    <tr>\n",
       "      <th>1</th>\n",
       "      <td>-9222956879900151005</td>\n",
       "      <td>-7937802522076404023</td>\n",
       "      <td>205471</td>\n",
       "      <td>1</td>\n",
       "      <td>2016-05-06 15:36:46</td>\n",
       "      <td>113.24</td>\n",
       "      <td>23.19</td>\n",
       "      <td>15</td>\n",
       "      <td>Friday</td>\n",
       "    </tr>\n",
       "    <tr>\n",
       "      <th>2</th>\n",
       "      <td>-9222956879900151005</td>\n",
       "      <td>-7633370358426043343</td>\n",
       "      <td>211711</td>\n",
       "      <td>1</td>\n",
       "      <td>2016-05-06 21:26:14</td>\n",
       "      <td>113.24</td>\n",
       "      <td>23.19</td>\n",
       "      <td>21</td>\n",
       "      <td>Friday</td>\n",
       "    </tr>\n",
       "    <tr>\n",
       "      <th>3</th>\n",
       "      <td>-9222956879900151005</td>\n",
       "      <td>-7339430059748502738</td>\n",
       "      <td>11281</td>\n",
       "      <td>1</td>\n",
       "      <td>2016-05-07 11:36:04</td>\n",
       "      <td>0.00</td>\n",
       "      <td>0.00</td>\n",
       "      <td>11</td>\n",
       "      <td>Saturday</td>\n",
       "    </tr>\n",
       "    <tr>\n",
       "      <th>4</th>\n",
       "      <td>-9222956879900151005</td>\n",
       "      <td>-6922429635537039162</td>\n",
       "      <td>205471</td>\n",
       "      <td>1</td>\n",
       "      <td>2016-05-06 15:36:46</td>\n",
       "      <td>113.24</td>\n",
       "      <td>23.19</td>\n",
       "      <td>15</td>\n",
       "      <td>Friday</td>\n",
       "    </tr>\n",
       "  </tbody>\n",
       "</table>\n",
       "</div>"
      ],
      "text/plain": [
       "             device_id               app_id  event_id  is_active  \\\n",
       "0 -9222956879900151005 -8670045756254444686    662820          1   \n",
       "1 -9222956879900151005 -7937802522076404023    205471          1   \n",
       "2 -9222956879900151005 -7633370358426043343    211711          1   \n",
       "3 -9222956879900151005 -7339430059748502738     11281          1   \n",
       "4 -9222956879900151005 -6922429635537039162    205471          1   \n",
       "\n",
       "            timestamp  longitude  latitude  time_hour  week_day  \n",
       "0 2016-05-07 12:04:46     113.24     23.19         12  Saturday  \n",
       "1 2016-05-06 15:36:46     113.24     23.19         15    Friday  \n",
       "2 2016-05-06 21:26:14     113.24     23.19         21    Friday  \n",
       "3 2016-05-07 11:36:04       0.00      0.00         11  Saturday  \n",
       "4 2016-05-06 15:36:46     113.24     23.19         15    Friday  "
      ]
     },
     "execution_count": 116,
     "metadata": {},
     "output_type": "execute_result"
    }
   ],
   "source": [
    "cat_devices.head()"
   ]
  },
  {
   "cell_type": "code",
   "execution_count": 117,
   "metadata": {
    "collapsed": true
   },
   "outputs": [],
   "source": [
    "labels=pd.read_csv('/Users/Adiii/Documents/Springboard/Capstone Project/app_labels.csv')"
   ]
  },
  {
   "cell_type": "code",
   "execution_count": 118,
   "metadata": {
    "collapsed": true
   },
   "outputs": [],
   "source": [
    "label_cat=pd.read_csv('/Users/Adiii/Documents/Springboard/Capstone Project/label_categories.csv')"
   ]
  },
  {
   "cell_type": "code",
   "execution_count": 119,
   "metadata": {
    "collapsed": true
   },
   "outputs": [],
   "source": [
    "cat_devices = cat_devices.merge(labels, how='left', on='app_id').merge(label_cat, how='left', on='label_id')"
   ]
  },
  {
   "cell_type": "code",
   "execution_count": 120,
   "metadata": {
    "collapsed": false
   },
   "outputs": [
    {
     "data": {
      "text/html": [
       "<div>\n",
       "<table border=\"1\" class=\"dataframe\">\n",
       "  <thead>\n",
       "    <tr style=\"text-align: right;\">\n",
       "      <th></th>\n",
       "      <th>device_id</th>\n",
       "      <th>app_id</th>\n",
       "      <th>event_id</th>\n",
       "      <th>is_active</th>\n",
       "      <th>timestamp</th>\n",
       "      <th>longitude</th>\n",
       "      <th>latitude</th>\n",
       "      <th>time_hour</th>\n",
       "      <th>week_day</th>\n",
       "      <th>label_id</th>\n",
       "      <th>category</th>\n",
       "    </tr>\n",
       "  </thead>\n",
       "  <tbody>\n",
       "    <tr>\n",
       "      <th>0</th>\n",
       "      <td>-9222956879900151005</td>\n",
       "      <td>-8670045756254444686</td>\n",
       "      <td>662820</td>\n",
       "      <td>1</td>\n",
       "      <td>2016-05-07 12:04:46</td>\n",
       "      <td>113.24</td>\n",
       "      <td>23.19</td>\n",
       "      <td>12</td>\n",
       "      <td>Saturday</td>\n",
       "      <td>959</td>\n",
       "      <td>financial</td>\n",
       "    </tr>\n",
       "    <tr>\n",
       "      <th>1</th>\n",
       "      <td>-9222956879900151005</td>\n",
       "      <td>-8670045756254444686</td>\n",
       "      <td>662820</td>\n",
       "      <td>1</td>\n",
       "      <td>2016-05-07 12:04:46</td>\n",
       "      <td>113.24</td>\n",
       "      <td>23.19</td>\n",
       "      <td>12</td>\n",
       "      <td>Saturday</td>\n",
       "      <td>960</td>\n",
       "      <td>P2P</td>\n",
       "    </tr>\n",
       "    <tr>\n",
       "      <th>2</th>\n",
       "      <td>-9222956879900151005</td>\n",
       "      <td>-8670045756254444686</td>\n",
       "      <td>662820</td>\n",
       "      <td>1</td>\n",
       "      <td>2016-05-07 12:04:46</td>\n",
       "      <td>113.24</td>\n",
       "      <td>23.19</td>\n",
       "      <td>12</td>\n",
       "      <td>Saturday</td>\n",
       "      <td>548</td>\n",
       "      <td>Industry tag</td>\n",
       "    </tr>\n",
       "    <tr>\n",
       "      <th>3</th>\n",
       "      <td>-9222956879900151005</td>\n",
       "      <td>-8670045756254444686</td>\n",
       "      <td>662820</td>\n",
       "      <td>1</td>\n",
       "      <td>2016-05-07 12:04:46</td>\n",
       "      <td>113.24</td>\n",
       "      <td>23.19</td>\n",
       "      <td>12</td>\n",
       "      <td>Saturday</td>\n",
       "      <td>1007</td>\n",
       "      <td>P2P net loan</td>\n",
       "    </tr>\n",
       "    <tr>\n",
       "      <th>4</th>\n",
       "      <td>-9222956879900151005</td>\n",
       "      <td>-7937802522076404023</td>\n",
       "      <td>205471</td>\n",
       "      <td>1</td>\n",
       "      <td>2016-05-06 15:36:46</td>\n",
       "      <td>113.24</td>\n",
       "      <td>23.19</td>\n",
       "      <td>15</td>\n",
       "      <td>Friday</td>\n",
       "      <td>959</td>\n",
       "      <td>financial</td>\n",
       "    </tr>\n",
       "  </tbody>\n",
       "</table>\n",
       "</div>"
      ],
      "text/plain": [
       "             device_id               app_id  event_id  is_active  \\\n",
       "0 -9222956879900151005 -8670045756254444686    662820          1   \n",
       "1 -9222956879900151005 -8670045756254444686    662820          1   \n",
       "2 -9222956879900151005 -8670045756254444686    662820          1   \n",
       "3 -9222956879900151005 -8670045756254444686    662820          1   \n",
       "4 -9222956879900151005 -7937802522076404023    205471          1   \n",
       "\n",
       "            timestamp  longitude  latitude  time_hour  week_day  label_id  \\\n",
       "0 2016-05-07 12:04:46     113.24     23.19         12  Saturday       959   \n",
       "1 2016-05-07 12:04:46     113.24     23.19         12  Saturday       960   \n",
       "2 2016-05-07 12:04:46     113.24     23.19         12  Saturday       548   \n",
       "3 2016-05-07 12:04:46     113.24     23.19         12  Saturday      1007   \n",
       "4 2016-05-06 15:36:46     113.24     23.19         15    Friday       959   \n",
       "\n",
       "       category  \n",
       "0     financial  \n",
       "1           P2P  \n",
       "2  Industry tag  \n",
       "3  P2P net loan  \n",
       "4     financial  "
      ]
     },
     "execution_count": 120,
     "metadata": {},
     "output_type": "execute_result"
    }
   ],
   "source": [
    "cat_devices.head()"
   ]
  },
  {
   "cell_type": "code",
   "execution_count": 121,
   "metadata": {
    "collapsed": false
   },
   "outputs": [
    {
     "data": {
      "text/html": [
       "<div>\n",
       "<table border=\"1\" class=\"dataframe\">\n",
       "  <thead>\n",
       "    <tr style=\"text-align: right;\">\n",
       "      <th></th>\n",
       "      <th>device_id</th>\n",
       "      <th>app_id</th>\n",
       "      <th>category</th>\n",
       "    </tr>\n",
       "  </thead>\n",
       "  <tbody>\n",
       "    <tr>\n",
       "      <th>0</th>\n",
       "      <td>-9222956879900151005</td>\n",
       "      <td>-8670045756254444686</td>\n",
       "      <td>financial</td>\n",
       "    </tr>\n",
       "    <tr>\n",
       "      <th>1</th>\n",
       "      <td>-9222956879900151005</td>\n",
       "      <td>-8670045756254444686</td>\n",
       "      <td>P2P</td>\n",
       "    </tr>\n",
       "    <tr>\n",
       "      <th>2</th>\n",
       "      <td>-9222956879900151005</td>\n",
       "      <td>-8670045756254444686</td>\n",
       "      <td>Industry tag</td>\n",
       "    </tr>\n",
       "    <tr>\n",
       "      <th>3</th>\n",
       "      <td>-9222956879900151005</td>\n",
       "      <td>-8670045756254444686</td>\n",
       "      <td>P2P net loan</td>\n",
       "    </tr>\n",
       "    <tr>\n",
       "      <th>4</th>\n",
       "      <td>-9222956879900151005</td>\n",
       "      <td>-7937802522076404023</td>\n",
       "      <td>financial</td>\n",
       "    </tr>\n",
       "  </tbody>\n",
       "</table>\n",
       "</div>"
      ],
      "text/plain": [
       "             device_id               app_id      category\n",
       "0 -9222956879900151005 -8670045756254444686     financial\n",
       "1 -9222956879900151005 -8670045756254444686           P2P\n",
       "2 -9222956879900151005 -8670045756254444686  Industry tag\n",
       "3 -9222956879900151005 -8670045756254444686  P2P net loan\n",
       "4 -9222956879900151005 -7937802522076404023     financial"
      ]
     },
     "execution_count": 121,
     "metadata": {},
     "output_type": "execute_result"
    }
   ],
   "source": [
    "cat_devices[['device_id', 'app_id', 'category']].head()"
   ]
  },
  {
   "cell_type": "code",
   "execution_count": 122,
   "metadata": {
    "collapsed": true
   },
   "outputs": [],
   "source": [
    "g=cat_devices.groupby(['device_id'])"
   ]
  },
  {
   "cell_type": "code",
   "execution_count": 123,
   "metadata": {
    "collapsed": false
   },
   "outputs": [
    {
     "data": {
      "text/html": [
       "<div>\n",
       "<table border=\"1\" class=\"dataframe\">\n",
       "  <thead>\n",
       "    <tr style=\"text-align: right;\">\n",
       "      <th></th>\n",
       "      <th>device_id</th>\n",
       "      <th>app_id</th>\n",
       "      <th>event_id</th>\n",
       "      <th>is_active</th>\n",
       "      <th>timestamp</th>\n",
       "      <th>longitude</th>\n",
       "      <th>latitude</th>\n",
       "      <th>time_hour</th>\n",
       "      <th>week_day</th>\n",
       "      <th>label_id</th>\n",
       "      <th>category</th>\n",
       "    </tr>\n",
       "  </thead>\n",
       "  <tbody>\n",
       "    <tr>\n",
       "      <th>0</th>\n",
       "      <td>-9222956879900151005</td>\n",
       "      <td>-8670045756254444686</td>\n",
       "      <td>662820</td>\n",
       "      <td>1</td>\n",
       "      <td>2016-05-07 12:04:46</td>\n",
       "      <td>113.24</td>\n",
       "      <td>23.19</td>\n",
       "      <td>12</td>\n",
       "      <td>Saturday</td>\n",
       "      <td>959</td>\n",
       "      <td>financial</td>\n",
       "    </tr>\n",
       "    <tr>\n",
       "      <th>1</th>\n",
       "      <td>-9222956879900151005</td>\n",
       "      <td>-8670045756254444686</td>\n",
       "      <td>662820</td>\n",
       "      <td>1</td>\n",
       "      <td>2016-05-07 12:04:46</td>\n",
       "      <td>113.24</td>\n",
       "      <td>23.19</td>\n",
       "      <td>12</td>\n",
       "      <td>Saturday</td>\n",
       "      <td>960</td>\n",
       "      <td>P2P</td>\n",
       "    </tr>\n",
       "    <tr>\n",
       "      <th>2</th>\n",
       "      <td>-9222956879900151005</td>\n",
       "      <td>-8670045756254444686</td>\n",
       "      <td>662820</td>\n",
       "      <td>1</td>\n",
       "      <td>2016-05-07 12:04:46</td>\n",
       "      <td>113.24</td>\n",
       "      <td>23.19</td>\n",
       "      <td>12</td>\n",
       "      <td>Saturday</td>\n",
       "      <td>548</td>\n",
       "      <td>Industry tag</td>\n",
       "    </tr>\n",
       "    <tr>\n",
       "      <th>3</th>\n",
       "      <td>-9222956879900151005</td>\n",
       "      <td>-8670045756254444686</td>\n",
       "      <td>662820</td>\n",
       "      <td>1</td>\n",
       "      <td>2016-05-07 12:04:46</td>\n",
       "      <td>113.24</td>\n",
       "      <td>23.19</td>\n",
       "      <td>12</td>\n",
       "      <td>Saturday</td>\n",
       "      <td>1007</td>\n",
       "      <td>P2P net loan</td>\n",
       "    </tr>\n",
       "    <tr>\n",
       "      <th>4</th>\n",
       "      <td>-9222956879900151005</td>\n",
       "      <td>-7937802522076404023</td>\n",
       "      <td>205471</td>\n",
       "      <td>1</td>\n",
       "      <td>2016-05-06 15:36:46</td>\n",
       "      <td>113.24</td>\n",
       "      <td>23.19</td>\n",
       "      <td>15</td>\n",
       "      <td>Friday</td>\n",
       "      <td>959</td>\n",
       "      <td>financial</td>\n",
       "    </tr>\n",
       "    <tr>\n",
       "      <th>441</th>\n",
       "      <td>-9222661944218806987</td>\n",
       "      <td>-7326028556762203740</td>\n",
       "      <td>118332</td>\n",
       "      <td>1</td>\n",
       "      <td>2016-05-04 21:58:07</td>\n",
       "      <td>0.00</td>\n",
       "      <td>0.00</td>\n",
       "      <td>21</td>\n",
       "      <td>Wednesday</td>\n",
       "      <td>721</td>\n",
       "      <td>Personal Effectiveness 1</td>\n",
       "    </tr>\n",
       "    <tr>\n",
       "      <th>442</th>\n",
       "      <td>-9222661944218806987</td>\n",
       "      <td>-7326028556762203740</td>\n",
       "      <td>118332</td>\n",
       "      <td>1</td>\n",
       "      <td>2016-05-04 21:58:07</td>\n",
       "      <td>0.00</td>\n",
       "      <td>0.00</td>\n",
       "      <td>21</td>\n",
       "      <td>Wednesday</td>\n",
       "      <td>704</td>\n",
       "      <td>Property Industry 2.0</td>\n",
       "    </tr>\n",
       "    <tr>\n",
       "      <th>443</th>\n",
       "      <td>-9222661944218806987</td>\n",
       "      <td>-7326028556762203740</td>\n",
       "      <td>118332</td>\n",
       "      <td>1</td>\n",
       "      <td>2016-05-04 21:58:07</td>\n",
       "      <td>0.00</td>\n",
       "      <td>0.00</td>\n",
       "      <td>21</td>\n",
       "      <td>Wednesday</td>\n",
       "      <td>548</td>\n",
       "      <td>Industry tag</td>\n",
       "    </tr>\n",
       "    <tr>\n",
       "      <th>444</th>\n",
       "      <td>-9222661944218806987</td>\n",
       "      <td>-7326028556762203740</td>\n",
       "      <td>118332</td>\n",
       "      <td>1</td>\n",
       "      <td>2016-05-04 21:58:07</td>\n",
       "      <td>0.00</td>\n",
       "      <td>0.00</td>\n",
       "      <td>21</td>\n",
       "      <td>Wednesday</td>\n",
       "      <td>232</td>\n",
       "      <td>notes</td>\n",
       "    </tr>\n",
       "    <tr>\n",
       "      <th>445</th>\n",
       "      <td>-9222661944218806987</td>\n",
       "      <td>-1633938282180439957</td>\n",
       "      <td>118332</td>\n",
       "      <td>1</td>\n",
       "      <td>2016-05-04 21:58:07</td>\n",
       "      <td>0.00</td>\n",
       "      <td>0.00</td>\n",
       "      <td>21</td>\n",
       "      <td>Wednesday</td>\n",
       "      <td>549</td>\n",
       "      <td>Property Industry 1.0</td>\n",
       "    </tr>\n",
       "    <tr>\n",
       "      <th>510</th>\n",
       "      <td>-9222399302879214035</td>\n",
       "      <td>-538061441862183033</td>\n",
       "      <td>277135</td>\n",
       "      <td>1</td>\n",
       "      <td>2016-05-04 11:00:24</td>\n",
       "      <td>0.00</td>\n",
       "      <td>0.00</td>\n",
       "      <td>11</td>\n",
       "      <td>Wednesday</td>\n",
       "      <td>302</td>\n",
       "      <td>unknown</td>\n",
       "    </tr>\n",
       "    <tr>\n",
       "      <th>511</th>\n",
       "      <td>-9222399302879214035</td>\n",
       "      <td>-538061441862183033</td>\n",
       "      <td>277135</td>\n",
       "      <td>1</td>\n",
       "      <td>2016-05-04 11:00:24</td>\n",
       "      <td>0.00</td>\n",
       "      <td>0.00</td>\n",
       "      <td>11</td>\n",
       "      <td>Wednesday</td>\n",
       "      <td>303</td>\n",
       "      <td>unknown</td>\n",
       "    </tr>\n",
       "    <tr>\n",
       "      <th>512</th>\n",
       "      <td>-9222399302879214035</td>\n",
       "      <td>1088227414300337900</td>\n",
       "      <td>279385</td>\n",
       "      <td>1</td>\n",
       "      <td>2016-05-02 13:15:54</td>\n",
       "      <td>0.00</td>\n",
       "      <td>0.00</td>\n",
       "      <td>13</td>\n",
       "      <td>Monday</td>\n",
       "      <td>251</td>\n",
       "      <td>Finance</td>\n",
       "    </tr>\n",
       "    <tr>\n",
       "      <th>513</th>\n",
       "      <td>-9222399302879214035</td>\n",
       "      <td>1088227414300337900</td>\n",
       "      <td>279385</td>\n",
       "      <td>1</td>\n",
       "      <td>2016-05-02 13:15:54</td>\n",
       "      <td>0.00</td>\n",
       "      <td>0.00</td>\n",
       "      <td>13</td>\n",
       "      <td>Monday</td>\n",
       "      <td>263</td>\n",
       "      <td>Debit and credit</td>\n",
       "    </tr>\n",
       "    <tr>\n",
       "      <th>514</th>\n",
       "      <td>-9222399302879214035</td>\n",
       "      <td>1088227414300337900</td>\n",
       "      <td>279385</td>\n",
       "      <td>1</td>\n",
       "      <td>2016-05-02 13:15:54</td>\n",
       "      <td>0.00</td>\n",
       "      <td>0.00</td>\n",
       "      <td>13</td>\n",
       "      <td>Monday</td>\n",
       "      <td>306</td>\n",
       "      <td>unknown</td>\n",
       "    </tr>\n",
       "    <tr>\n",
       "      <th>551</th>\n",
       "      <td>-9221825537663503111</td>\n",
       "      <td>-8670045756254444686</td>\n",
       "      <td>2475082</td>\n",
       "      <td>1</td>\n",
       "      <td>2016-05-01 10:25:15</td>\n",
       "      <td>113.48</td>\n",
       "      <td>34.92</td>\n",
       "      <td>10</td>\n",
       "      <td>Sunday</td>\n",
       "      <td>959</td>\n",
       "      <td>financial</td>\n",
       "    </tr>\n",
       "    <tr>\n",
       "      <th>552</th>\n",
       "      <td>-9221825537663503111</td>\n",
       "      <td>-8670045756254444686</td>\n",
       "      <td>2475082</td>\n",
       "      <td>1</td>\n",
       "      <td>2016-05-01 10:25:15</td>\n",
       "      <td>113.48</td>\n",
       "      <td>34.92</td>\n",
       "      <td>10</td>\n",
       "      <td>Sunday</td>\n",
       "      <td>960</td>\n",
       "      <td>P2P</td>\n",
       "    </tr>\n",
       "    <tr>\n",
       "      <th>553</th>\n",
       "      <td>-9221825537663503111</td>\n",
       "      <td>-8670045756254444686</td>\n",
       "      <td>2475082</td>\n",
       "      <td>1</td>\n",
       "      <td>2016-05-01 10:25:15</td>\n",
       "      <td>113.48</td>\n",
       "      <td>34.92</td>\n",
       "      <td>10</td>\n",
       "      <td>Sunday</td>\n",
       "      <td>548</td>\n",
       "      <td>Industry tag</td>\n",
       "    </tr>\n",
       "    <tr>\n",
       "      <th>554</th>\n",
       "      <td>-9221825537663503111</td>\n",
       "      <td>-8670045756254444686</td>\n",
       "      <td>2475082</td>\n",
       "      <td>1</td>\n",
       "      <td>2016-05-01 10:25:15</td>\n",
       "      <td>113.48</td>\n",
       "      <td>34.92</td>\n",
       "      <td>10</td>\n",
       "      <td>Sunday</td>\n",
       "      <td>1007</td>\n",
       "      <td>P2P net loan</td>\n",
       "    </tr>\n",
       "    <tr>\n",
       "      <th>555</th>\n",
       "      <td>-9221825537663503111</td>\n",
       "      <td>-7164737313972860089</td>\n",
       "      <td>340952</td>\n",
       "      <td>1</td>\n",
       "      <td>2016-05-05 07:21:49</td>\n",
       "      <td>113.36</td>\n",
       "      <td>33.63</td>\n",
       "      <td>7</td>\n",
       "      <td>Thursday</td>\n",
       "      <td>714</td>\n",
       "      <td>1 free</td>\n",
       "    </tr>\n",
       "    <tr>\n",
       "      <th>676</th>\n",
       "      <td>-9221767098072603291</td>\n",
       "      <td>-8807740666788515175</td>\n",
       "      <td>606962</td>\n",
       "      <td>1</td>\n",
       "      <td>2016-05-01 15:02:27</td>\n",
       "      <td>0.00</td>\n",
       "      <td>0.00</td>\n",
       "      <td>15</td>\n",
       "      <td>Sunday</td>\n",
       "      <td>549</td>\n",
       "      <td>Property Industry 1.0</td>\n",
       "    </tr>\n",
       "    <tr>\n",
       "      <th>677</th>\n",
       "      <td>-9221767098072603291</td>\n",
       "      <td>-8807740666788515175</td>\n",
       "      <td>606962</td>\n",
       "      <td>1</td>\n",
       "      <td>2016-05-01 15:02:27</td>\n",
       "      <td>0.00</td>\n",
       "      <td>0.00</td>\n",
       "      <td>15</td>\n",
       "      <td>Sunday</td>\n",
       "      <td>714</td>\n",
       "      <td>1 free</td>\n",
       "    </tr>\n",
       "    <tr>\n",
       "      <th>678</th>\n",
       "      <td>-9221767098072603291</td>\n",
       "      <td>-8807740666788515175</td>\n",
       "      <td>606962</td>\n",
       "      <td>1</td>\n",
       "      <td>2016-05-01 15:02:27</td>\n",
       "      <td>0.00</td>\n",
       "      <td>0.00</td>\n",
       "      <td>15</td>\n",
       "      <td>Sunday</td>\n",
       "      <td>723</td>\n",
       "      <td>Cozy 1</td>\n",
       "    </tr>\n",
       "    <tr>\n",
       "      <th>679</th>\n",
       "      <td>-9221767098072603291</td>\n",
       "      <td>-8807740666788515175</td>\n",
       "      <td>606962</td>\n",
       "      <td>1</td>\n",
       "      <td>2016-05-01 15:02:27</td>\n",
       "      <td>0.00</td>\n",
       "      <td>0.00</td>\n",
       "      <td>15</td>\n",
       "      <td>Sunday</td>\n",
       "      <td>548</td>\n",
       "      <td>Industry tag</td>\n",
       "    </tr>\n",
       "    <tr>\n",
       "      <th>680</th>\n",
       "      <td>-9221767098072603291</td>\n",
       "      <td>-8807740666788515175</td>\n",
       "      <td>606962</td>\n",
       "      <td>1</td>\n",
       "      <td>2016-05-01 15:02:27</td>\n",
       "      <td>0.00</td>\n",
       "      <td>0.00</td>\n",
       "      <td>15</td>\n",
       "      <td>Sunday</td>\n",
       "      <td>704</td>\n",
       "      <td>Property Industry 2.0</td>\n",
       "    </tr>\n",
       "    <tr>\n",
       "      <th>783</th>\n",
       "      <td>-9221079146476055829</td>\n",
       "      <td>-8775272028048552284</td>\n",
       "      <td>383275</td>\n",
       "      <td>1</td>\n",
       "      <td>2016-05-02 19:18:14</td>\n",
       "      <td>0.00</td>\n",
       "      <td>0.00</td>\n",
       "      <td>19</td>\n",
       "      <td>Monday</td>\n",
       "      <td>870</td>\n",
       "      <td>Personal Effectiveness</td>\n",
       "    </tr>\n",
       "    <tr>\n",
       "      <th>784</th>\n",
       "      <td>-9221079146476055829</td>\n",
       "      <td>-8775272028048552284</td>\n",
       "      <td>383275</td>\n",
       "      <td>1</td>\n",
       "      <td>2016-05-02 19:18:14</td>\n",
       "      <td>0.00</td>\n",
       "      <td>0.00</td>\n",
       "      <td>19</td>\n",
       "      <td>Monday</td>\n",
       "      <td>854</td>\n",
       "      <td>Property Industry new</td>\n",
       "    </tr>\n",
       "    <tr>\n",
       "      <th>785</th>\n",
       "      <td>-9221079146476055829</td>\n",
       "      <td>-8775272028048552284</td>\n",
       "      <td>383275</td>\n",
       "      <td>1</td>\n",
       "      <td>2016-05-02 19:18:14</td>\n",
       "      <td>0.00</td>\n",
       "      <td>0.00</td>\n",
       "      <td>19</td>\n",
       "      <td>Monday</td>\n",
       "      <td>548</td>\n",
       "      <td>Industry tag</td>\n",
       "    </tr>\n",
       "    <tr>\n",
       "      <th>786</th>\n",
       "      <td>-9221079146476055829</td>\n",
       "      <td>-7737557674844589053</td>\n",
       "      <td>725264</td>\n",
       "      <td>1</td>\n",
       "      <td>2016-05-02 22:27:56</td>\n",
       "      <td>0.00</td>\n",
       "      <td>0.00</td>\n",
       "      <td>22</td>\n",
       "      <td>Monday</td>\n",
       "      <td>549</td>\n",
       "      <td>Property Industry 1.0</td>\n",
       "    </tr>\n",
       "    <tr>\n",
       "      <th>787</th>\n",
       "      <td>-9221079146476055829</td>\n",
       "      <td>-7737557674844589053</td>\n",
       "      <td>725264</td>\n",
       "      <td>1</td>\n",
       "      <td>2016-05-02 22:27:56</td>\n",
       "      <td>0.00</td>\n",
       "      <td>0.00</td>\n",
       "      <td>22</td>\n",
       "      <td>Monday</td>\n",
       "      <td>714</td>\n",
       "      <td>1 free</td>\n",
       "    </tr>\n",
       "    <tr>\n",
       "      <th>...</th>\n",
       "      <td>...</td>\n",
       "      <td>...</td>\n",
       "      <td>...</td>\n",
       "      <td>...</td>\n",
       "      <td>...</td>\n",
       "      <td>...</td>\n",
       "      <td>...</td>\n",
       "      <td>...</td>\n",
       "      <td>...</td>\n",
       "      <td>...</td>\n",
       "      <td>...</td>\n",
       "    </tr>\n",
       "    <tr>\n",
       "      <th>5241424</th>\n",
       "      <td>9220562120895859549</td>\n",
       "      <td>-4903991800006656153</td>\n",
       "      <td>1046660</td>\n",
       "      <td>1</td>\n",
       "      <td>2016-05-04 00:48:51</td>\n",
       "      <td>0.00</td>\n",
       "      <td>0.00</td>\n",
       "      <td>0</td>\n",
       "      <td>Wednesday</td>\n",
       "      <td>548</td>\n",
       "      <td>Industry tag</td>\n",
       "    </tr>\n",
       "    <tr>\n",
       "      <th>5241432</th>\n",
       "      <td>9220814716773471568</td>\n",
       "      <td>-9208020732558900907</td>\n",
       "      <td>581141</td>\n",
       "      <td>1</td>\n",
       "      <td>2016-05-07 15:32:55</td>\n",
       "      <td>0.00</td>\n",
       "      <td>0.00</td>\n",
       "      <td>15</td>\n",
       "      <td>Saturday</td>\n",
       "      <td>251</td>\n",
       "      <td>Finance</td>\n",
       "    </tr>\n",
       "    <tr>\n",
       "      <th>5241433</th>\n",
       "      <td>9220814716773471568</td>\n",
       "      <td>-9208020732558900907</td>\n",
       "      <td>581141</td>\n",
       "      <td>1</td>\n",
       "      <td>2016-05-07 15:32:55</td>\n",
       "      <td>0.00</td>\n",
       "      <td>0.00</td>\n",
       "      <td>15</td>\n",
       "      <td>Saturday</td>\n",
       "      <td>259</td>\n",
       "      <td>Precious Metals</td>\n",
       "    </tr>\n",
       "    <tr>\n",
       "      <th>5241434</th>\n",
       "      <td>9220814716773471568</td>\n",
       "      <td>-9208020732558900907</td>\n",
       "      <td>581141</td>\n",
       "      <td>1</td>\n",
       "      <td>2016-05-07 15:32:55</td>\n",
       "      <td>0.00</td>\n",
       "      <td>0.00</td>\n",
       "      <td>15</td>\n",
       "      <td>Saturday</td>\n",
       "      <td>306</td>\n",
       "      <td>unknown</td>\n",
       "    </tr>\n",
       "    <tr>\n",
       "      <th>5241435</th>\n",
       "      <td>9220814716773471568</td>\n",
       "      <td>-9208020732558900907</td>\n",
       "      <td>581141</td>\n",
       "      <td>1</td>\n",
       "      <td>2016-05-07 15:32:55</td>\n",
       "      <td>0.00</td>\n",
       "      <td>0.00</td>\n",
       "      <td>15</td>\n",
       "      <td>Saturday</td>\n",
       "      <td>302</td>\n",
       "      <td>unknown</td>\n",
       "    </tr>\n",
       "    <tr>\n",
       "      <th>5241436</th>\n",
       "      <td>9220814716773471568</td>\n",
       "      <td>-9208020732558900907</td>\n",
       "      <td>581141</td>\n",
       "      <td>1</td>\n",
       "      <td>2016-05-07 15:32:55</td>\n",
       "      <td>0.00</td>\n",
       "      <td>0.00</td>\n",
       "      <td>15</td>\n",
       "      <td>Saturday</td>\n",
       "      <td>1019</td>\n",
       "      <td>Internet Securities</td>\n",
       "    </tr>\n",
       "    <tr>\n",
       "      <th>5241605</th>\n",
       "      <td>9220914901466458680</td>\n",
       "      <td>-5472633337921616096</td>\n",
       "      <td>145039</td>\n",
       "      <td>1</td>\n",
       "      <td>2016-05-06 20:14:46</td>\n",
       "      <td>0.00</td>\n",
       "      <td>0.00</td>\n",
       "      <td>20</td>\n",
       "      <td>Friday</td>\n",
       "      <td>712</td>\n",
       "      <td>Nature 1</td>\n",
       "    </tr>\n",
       "    <tr>\n",
       "      <th>5241606</th>\n",
       "      <td>9220914901466458680</td>\n",
       "      <td>-5472633337921616096</td>\n",
       "      <td>145039</td>\n",
       "      <td>1</td>\n",
       "      <td>2016-05-06 20:14:46</td>\n",
       "      <td>0.00</td>\n",
       "      <td>0.00</td>\n",
       "      <td>20</td>\n",
       "      <td>Friday</td>\n",
       "      <td>721</td>\n",
       "      <td>Personal Effectiveness 1</td>\n",
       "    </tr>\n",
       "    <tr>\n",
       "      <th>5241607</th>\n",
       "      <td>9220914901466458680</td>\n",
       "      <td>-5472633337921616096</td>\n",
       "      <td>145039</td>\n",
       "      <td>1</td>\n",
       "      <td>2016-05-06 20:14:46</td>\n",
       "      <td>0.00</td>\n",
       "      <td>0.00</td>\n",
       "      <td>20</td>\n",
       "      <td>Friday</td>\n",
       "      <td>548</td>\n",
       "      <td>Industry tag</td>\n",
       "    </tr>\n",
       "    <tr>\n",
       "      <th>5241608</th>\n",
       "      <td>9220914901466458680</td>\n",
       "      <td>-5472633337921616096</td>\n",
       "      <td>145039</td>\n",
       "      <td>1</td>\n",
       "      <td>2016-05-06 20:14:46</td>\n",
       "      <td>0.00</td>\n",
       "      <td>0.00</td>\n",
       "      <td>20</td>\n",
       "      <td>Friday</td>\n",
       "      <td>704</td>\n",
       "      <td>Property Industry 2.0</td>\n",
       "    </tr>\n",
       "    <tr>\n",
       "      <th>5241609</th>\n",
       "      <td>9220914901466458680</td>\n",
       "      <td>-5368809411346728624</td>\n",
       "      <td>34831</td>\n",
       "      <td>1</td>\n",
       "      <td>2016-05-02 07:02:29</td>\n",
       "      <td>0.00</td>\n",
       "      <td>0.00</td>\n",
       "      <td>7</td>\n",
       "      <td>Monday</td>\n",
       "      <td>548</td>\n",
       "      <td>Industry tag</td>\n",
       "    </tr>\n",
       "    <tr>\n",
       "      <th>5241631</th>\n",
       "      <td>9221586026451102237</td>\n",
       "      <td>-8504475857937456387</td>\n",
       "      <td>641664</td>\n",
       "      <td>1</td>\n",
       "      <td>2016-05-07 18:04:36</td>\n",
       "      <td>0.00</td>\n",
       "      <td>0.00</td>\n",
       "      <td>18</td>\n",
       "      <td>Saturday</td>\n",
       "      <td>549</td>\n",
       "      <td>Property Industry 1.0</td>\n",
       "    </tr>\n",
       "    <tr>\n",
       "      <th>5241632</th>\n",
       "      <td>9221586026451102237</td>\n",
       "      <td>-8504475857937456387</td>\n",
       "      <td>641664</td>\n",
       "      <td>1</td>\n",
       "      <td>2016-05-07 18:04:36</td>\n",
       "      <td>0.00</td>\n",
       "      <td>0.00</td>\n",
       "      <td>18</td>\n",
       "      <td>Saturday</td>\n",
       "      <td>714</td>\n",
       "      <td>1 free</td>\n",
       "    </tr>\n",
       "    <tr>\n",
       "      <th>5241633</th>\n",
       "      <td>9221586026451102237</td>\n",
       "      <td>-8504475857937456387</td>\n",
       "      <td>641664</td>\n",
       "      <td>1</td>\n",
       "      <td>2016-05-07 18:04:36</td>\n",
       "      <td>0.00</td>\n",
       "      <td>0.00</td>\n",
       "      <td>18</td>\n",
       "      <td>Saturday</td>\n",
       "      <td>723</td>\n",
       "      <td>Cozy 1</td>\n",
       "    </tr>\n",
       "    <tr>\n",
       "      <th>5241634</th>\n",
       "      <td>9221586026451102237</td>\n",
       "      <td>-8504475857937456387</td>\n",
       "      <td>641664</td>\n",
       "      <td>1</td>\n",
       "      <td>2016-05-07 18:04:36</td>\n",
       "      <td>0.00</td>\n",
       "      <td>0.00</td>\n",
       "      <td>18</td>\n",
       "      <td>Saturday</td>\n",
       "      <td>548</td>\n",
       "      <td>Industry tag</td>\n",
       "    </tr>\n",
       "    <tr>\n",
       "      <th>5241635</th>\n",
       "      <td>9221586026451102237</td>\n",
       "      <td>-8504475857937456387</td>\n",
       "      <td>641664</td>\n",
       "      <td>1</td>\n",
       "      <td>2016-05-07 18:04:36</td>\n",
       "      <td>0.00</td>\n",
       "      <td>0.00</td>\n",
       "      <td>18</td>\n",
       "      <td>Saturday</td>\n",
       "      <td>704</td>\n",
       "      <td>Property Industry 2.0</td>\n",
       "    </tr>\n",
       "    <tr>\n",
       "      <th>5241658</th>\n",
       "      <td>9222110179000857683</td>\n",
       "      <td>-5076658704102691480</td>\n",
       "      <td>686414</td>\n",
       "      <td>1</td>\n",
       "      <td>2016-05-06 18:14:52</td>\n",
       "      <td>0.00</td>\n",
       "      <td>0.00</td>\n",
       "      <td>18</td>\n",
       "      <td>Friday</td>\n",
       "      <td>713</td>\n",
       "      <td>Services 1</td>\n",
       "    </tr>\n",
       "    <tr>\n",
       "      <th>5241659</th>\n",
       "      <td>9222110179000857683</td>\n",
       "      <td>-5076658704102691480</td>\n",
       "      <td>686414</td>\n",
       "      <td>1</td>\n",
       "      <td>2016-05-06 18:14:52</td>\n",
       "      <td>0.00</td>\n",
       "      <td>0.00</td>\n",
       "      <td>18</td>\n",
       "      <td>Friday</td>\n",
       "      <td>704</td>\n",
       "      <td>Property Industry 2.0</td>\n",
       "    </tr>\n",
       "    <tr>\n",
       "      <th>5241660</th>\n",
       "      <td>9222110179000857683</td>\n",
       "      <td>-5076658704102691480</td>\n",
       "      <td>686414</td>\n",
       "      <td>1</td>\n",
       "      <td>2016-05-06 18:14:52</td>\n",
       "      <td>0.00</td>\n",
       "      <td>0.00</td>\n",
       "      <td>18</td>\n",
       "      <td>Friday</td>\n",
       "      <td>548</td>\n",
       "      <td>Industry tag</td>\n",
       "    </tr>\n",
       "    <tr>\n",
       "      <th>5241661</th>\n",
       "      <td>9222110179000857683</td>\n",
       "      <td>-3659463965661490336</td>\n",
       "      <td>147058</td>\n",
       "      <td>1</td>\n",
       "      <td>2016-05-01 12:51:37</td>\n",
       "      <td>0.00</td>\n",
       "      <td>0.00</td>\n",
       "      <td>12</td>\n",
       "      <td>Sunday</td>\n",
       "      <td>549</td>\n",
       "      <td>Property Industry 1.0</td>\n",
       "    </tr>\n",
       "    <tr>\n",
       "      <th>5241662</th>\n",
       "      <td>9222110179000857683</td>\n",
       "      <td>-3659463965661490336</td>\n",
       "      <td>147058</td>\n",
       "      <td>1</td>\n",
       "      <td>2016-05-01 12:51:37</td>\n",
       "      <td>0.00</td>\n",
       "      <td>0.00</td>\n",
       "      <td>12</td>\n",
       "      <td>Sunday</td>\n",
       "      <td>713</td>\n",
       "      <td>Services 1</td>\n",
       "    </tr>\n",
       "    <tr>\n",
       "      <th>5241752</th>\n",
       "      <td>9222355582733155698</td>\n",
       "      <td>-5472633337921616096</td>\n",
       "      <td>1859265</td>\n",
       "      <td>1</td>\n",
       "      <td>2016-05-02 18:39:10</td>\n",
       "      <td>116.42</td>\n",
       "      <td>39.78</td>\n",
       "      <td>18</td>\n",
       "      <td>Monday</td>\n",
       "      <td>712</td>\n",
       "      <td>Nature 1</td>\n",
       "    </tr>\n",
       "    <tr>\n",
       "      <th>5241753</th>\n",
       "      <td>9222355582733155698</td>\n",
       "      <td>-5472633337921616096</td>\n",
       "      <td>1859265</td>\n",
       "      <td>1</td>\n",
       "      <td>2016-05-02 18:39:10</td>\n",
       "      <td>116.42</td>\n",
       "      <td>39.78</td>\n",
       "      <td>18</td>\n",
       "      <td>Monday</td>\n",
       "      <td>721</td>\n",
       "      <td>Personal Effectiveness 1</td>\n",
       "    </tr>\n",
       "    <tr>\n",
       "      <th>5241754</th>\n",
       "      <td>9222355582733155698</td>\n",
       "      <td>-5472633337921616096</td>\n",
       "      <td>1859265</td>\n",
       "      <td>1</td>\n",
       "      <td>2016-05-02 18:39:10</td>\n",
       "      <td>116.42</td>\n",
       "      <td>39.78</td>\n",
       "      <td>18</td>\n",
       "      <td>Monday</td>\n",
       "      <td>548</td>\n",
       "      <td>Industry tag</td>\n",
       "    </tr>\n",
       "    <tr>\n",
       "      <th>5241755</th>\n",
       "      <td>9222355582733155698</td>\n",
       "      <td>-5472633337921616096</td>\n",
       "      <td>1859265</td>\n",
       "      <td>1</td>\n",
       "      <td>2016-05-02 18:39:10</td>\n",
       "      <td>116.42</td>\n",
       "      <td>39.78</td>\n",
       "      <td>18</td>\n",
       "      <td>Monday</td>\n",
       "      <td>704</td>\n",
       "      <td>Property Industry 2.0</td>\n",
       "    </tr>\n",
       "    <tr>\n",
       "      <th>5241756</th>\n",
       "      <td>9222355582733155698</td>\n",
       "      <td>-5305696816021977482</td>\n",
       "      <td>1859265</td>\n",
       "      <td>1</td>\n",
       "      <td>2016-05-02 18:39:10</td>\n",
       "      <td>116.42</td>\n",
       "      <td>39.78</td>\n",
       "      <td>18</td>\n",
       "      <td>Monday</td>\n",
       "      <td>714</td>\n",
       "      <td>1 free</td>\n",
       "    </tr>\n",
       "    <tr>\n",
       "      <th>5241912</th>\n",
       "      <td>9222539910510672930</td>\n",
       "      <td>429374175315151221</td>\n",
       "      <td>464436</td>\n",
       "      <td>1</td>\n",
       "      <td>2016-05-05 15:40:36</td>\n",
       "      <td>0.00</td>\n",
       "      <td>0.00</td>\n",
       "      <td>15</td>\n",
       "      <td>Thursday</td>\n",
       "      <td>220</td>\n",
       "      <td>Calendar</td>\n",
       "    </tr>\n",
       "    <tr>\n",
       "      <th>5241913</th>\n",
       "      <td>9222539910510672930</td>\n",
       "      <td>429374175315151221</td>\n",
       "      <td>464436</td>\n",
       "      <td>1</td>\n",
       "      <td>2016-05-05 15:40:36</td>\n",
       "      <td>0.00</td>\n",
       "      <td>0.00</td>\n",
       "      <td>15</td>\n",
       "      <td>Thursday</td>\n",
       "      <td>230</td>\n",
       "      <td>Scheduling</td>\n",
       "    </tr>\n",
       "    <tr>\n",
       "      <th>5241914</th>\n",
       "      <td>9222539910510672930</td>\n",
       "      <td>3433289601737013244</td>\n",
       "      <td>464436</td>\n",
       "      <td>1</td>\n",
       "      <td>2016-05-05 15:40:36</td>\n",
       "      <td>0.00</td>\n",
       "      <td>0.00</td>\n",
       "      <td>15</td>\n",
       "      <td>Thursday</td>\n",
       "      <td>548</td>\n",
       "      <td>Industry tag</td>\n",
       "    </tr>\n",
       "    <tr>\n",
       "      <th>5241915</th>\n",
       "      <td>9222539910510672930</td>\n",
       "      <td>3433289601737013244</td>\n",
       "      <td>464436</td>\n",
       "      <td>1</td>\n",
       "      <td>2016-05-05 15:40:36</td>\n",
       "      <td>0.00</td>\n",
       "      <td>0.00</td>\n",
       "      <td>15</td>\n",
       "      <td>Thursday</td>\n",
       "      <td>549</td>\n",
       "      <td>Property Industry 1.0</td>\n",
       "    </tr>\n",
       "  </tbody>\n",
       "</table>\n",
       "<p>299435 rows × 11 columns</p>\n",
       "</div>"
      ],
      "text/plain": [
       "                   device_id               app_id  event_id  is_active  \\\n",
       "0       -9222956879900151005 -8670045756254444686    662820          1   \n",
       "1       -9222956879900151005 -8670045756254444686    662820          1   \n",
       "2       -9222956879900151005 -8670045756254444686    662820          1   \n",
       "3       -9222956879900151005 -8670045756254444686    662820          1   \n",
       "4       -9222956879900151005 -7937802522076404023    205471          1   \n",
       "441     -9222661944218806987 -7326028556762203740    118332          1   \n",
       "442     -9222661944218806987 -7326028556762203740    118332          1   \n",
       "443     -9222661944218806987 -7326028556762203740    118332          1   \n",
       "444     -9222661944218806987 -7326028556762203740    118332          1   \n",
       "445     -9222661944218806987 -1633938282180439957    118332          1   \n",
       "510     -9222399302879214035  -538061441862183033    277135          1   \n",
       "511     -9222399302879214035  -538061441862183033    277135          1   \n",
       "512     -9222399302879214035  1088227414300337900    279385          1   \n",
       "513     -9222399302879214035  1088227414300337900    279385          1   \n",
       "514     -9222399302879214035  1088227414300337900    279385          1   \n",
       "551     -9221825537663503111 -8670045756254444686   2475082          1   \n",
       "552     -9221825537663503111 -8670045756254444686   2475082          1   \n",
       "553     -9221825537663503111 -8670045756254444686   2475082          1   \n",
       "554     -9221825537663503111 -8670045756254444686   2475082          1   \n",
       "555     -9221825537663503111 -7164737313972860089    340952          1   \n",
       "676     -9221767098072603291 -8807740666788515175    606962          1   \n",
       "677     -9221767098072603291 -8807740666788515175    606962          1   \n",
       "678     -9221767098072603291 -8807740666788515175    606962          1   \n",
       "679     -9221767098072603291 -8807740666788515175    606962          1   \n",
       "680     -9221767098072603291 -8807740666788515175    606962          1   \n",
       "783     -9221079146476055829 -8775272028048552284    383275          1   \n",
       "784     -9221079146476055829 -8775272028048552284    383275          1   \n",
       "785     -9221079146476055829 -8775272028048552284    383275          1   \n",
       "786     -9221079146476055829 -7737557674844589053    725264          1   \n",
       "787     -9221079146476055829 -7737557674844589053    725264          1   \n",
       "...                      ...                  ...       ...        ...   \n",
       "5241424  9220562120895859549 -4903991800006656153   1046660          1   \n",
       "5241432  9220814716773471568 -9208020732558900907    581141          1   \n",
       "5241433  9220814716773471568 -9208020732558900907    581141          1   \n",
       "5241434  9220814716773471568 -9208020732558900907    581141          1   \n",
       "5241435  9220814716773471568 -9208020732558900907    581141          1   \n",
       "5241436  9220814716773471568 -9208020732558900907    581141          1   \n",
       "5241605  9220914901466458680 -5472633337921616096    145039          1   \n",
       "5241606  9220914901466458680 -5472633337921616096    145039          1   \n",
       "5241607  9220914901466458680 -5472633337921616096    145039          1   \n",
       "5241608  9220914901466458680 -5472633337921616096    145039          1   \n",
       "5241609  9220914901466458680 -5368809411346728624     34831          1   \n",
       "5241631  9221586026451102237 -8504475857937456387    641664          1   \n",
       "5241632  9221586026451102237 -8504475857937456387    641664          1   \n",
       "5241633  9221586026451102237 -8504475857937456387    641664          1   \n",
       "5241634  9221586026451102237 -8504475857937456387    641664          1   \n",
       "5241635  9221586026451102237 -8504475857937456387    641664          1   \n",
       "5241658  9222110179000857683 -5076658704102691480    686414          1   \n",
       "5241659  9222110179000857683 -5076658704102691480    686414          1   \n",
       "5241660  9222110179000857683 -5076658704102691480    686414          1   \n",
       "5241661  9222110179000857683 -3659463965661490336    147058          1   \n",
       "5241662  9222110179000857683 -3659463965661490336    147058          1   \n",
       "5241752  9222355582733155698 -5472633337921616096   1859265          1   \n",
       "5241753  9222355582733155698 -5472633337921616096   1859265          1   \n",
       "5241754  9222355582733155698 -5472633337921616096   1859265          1   \n",
       "5241755  9222355582733155698 -5472633337921616096   1859265          1   \n",
       "5241756  9222355582733155698 -5305696816021977482   1859265          1   \n",
       "5241912  9222539910510672930   429374175315151221    464436          1   \n",
       "5241913  9222539910510672930   429374175315151221    464436          1   \n",
       "5241914  9222539910510672930  3433289601737013244    464436          1   \n",
       "5241915  9222539910510672930  3433289601737013244    464436          1   \n",
       "\n",
       "                  timestamp  longitude  latitude  time_hour   week_day  \\\n",
       "0       2016-05-07 12:04:46     113.24     23.19         12   Saturday   \n",
       "1       2016-05-07 12:04:46     113.24     23.19         12   Saturday   \n",
       "2       2016-05-07 12:04:46     113.24     23.19         12   Saturday   \n",
       "3       2016-05-07 12:04:46     113.24     23.19         12   Saturday   \n",
       "4       2016-05-06 15:36:46     113.24     23.19         15     Friday   \n",
       "441     2016-05-04 21:58:07       0.00      0.00         21  Wednesday   \n",
       "442     2016-05-04 21:58:07       0.00      0.00         21  Wednesday   \n",
       "443     2016-05-04 21:58:07       0.00      0.00         21  Wednesday   \n",
       "444     2016-05-04 21:58:07       0.00      0.00         21  Wednesday   \n",
       "445     2016-05-04 21:58:07       0.00      0.00         21  Wednesday   \n",
       "510     2016-05-04 11:00:24       0.00      0.00         11  Wednesday   \n",
       "511     2016-05-04 11:00:24       0.00      0.00         11  Wednesday   \n",
       "512     2016-05-02 13:15:54       0.00      0.00         13     Monday   \n",
       "513     2016-05-02 13:15:54       0.00      0.00         13     Monday   \n",
       "514     2016-05-02 13:15:54       0.00      0.00         13     Monday   \n",
       "551     2016-05-01 10:25:15     113.48     34.92         10     Sunday   \n",
       "552     2016-05-01 10:25:15     113.48     34.92         10     Sunday   \n",
       "553     2016-05-01 10:25:15     113.48     34.92         10     Sunday   \n",
       "554     2016-05-01 10:25:15     113.48     34.92         10     Sunday   \n",
       "555     2016-05-05 07:21:49     113.36     33.63          7   Thursday   \n",
       "676     2016-05-01 15:02:27       0.00      0.00         15     Sunday   \n",
       "677     2016-05-01 15:02:27       0.00      0.00         15     Sunday   \n",
       "678     2016-05-01 15:02:27       0.00      0.00         15     Sunday   \n",
       "679     2016-05-01 15:02:27       0.00      0.00         15     Sunday   \n",
       "680     2016-05-01 15:02:27       0.00      0.00         15     Sunday   \n",
       "783     2016-05-02 19:18:14       0.00      0.00         19     Monday   \n",
       "784     2016-05-02 19:18:14       0.00      0.00         19     Monday   \n",
       "785     2016-05-02 19:18:14       0.00      0.00         19     Monday   \n",
       "786     2016-05-02 22:27:56       0.00      0.00         22     Monday   \n",
       "787     2016-05-02 22:27:56       0.00      0.00         22     Monday   \n",
       "...                     ...        ...       ...        ...        ...   \n",
       "5241424 2016-05-04 00:48:51       0.00      0.00          0  Wednesday   \n",
       "5241432 2016-05-07 15:32:55       0.00      0.00         15   Saturday   \n",
       "5241433 2016-05-07 15:32:55       0.00      0.00         15   Saturday   \n",
       "5241434 2016-05-07 15:32:55       0.00      0.00         15   Saturday   \n",
       "5241435 2016-05-07 15:32:55       0.00      0.00         15   Saturday   \n",
       "5241436 2016-05-07 15:32:55       0.00      0.00         15   Saturday   \n",
       "5241605 2016-05-06 20:14:46       0.00      0.00         20     Friday   \n",
       "5241606 2016-05-06 20:14:46       0.00      0.00         20     Friday   \n",
       "5241607 2016-05-06 20:14:46       0.00      0.00         20     Friday   \n",
       "5241608 2016-05-06 20:14:46       0.00      0.00         20     Friday   \n",
       "5241609 2016-05-02 07:02:29       0.00      0.00          7     Monday   \n",
       "5241631 2016-05-07 18:04:36       0.00      0.00         18   Saturday   \n",
       "5241632 2016-05-07 18:04:36       0.00      0.00         18   Saturday   \n",
       "5241633 2016-05-07 18:04:36       0.00      0.00         18   Saturday   \n",
       "5241634 2016-05-07 18:04:36       0.00      0.00         18   Saturday   \n",
       "5241635 2016-05-07 18:04:36       0.00      0.00         18   Saturday   \n",
       "5241658 2016-05-06 18:14:52       0.00      0.00         18     Friday   \n",
       "5241659 2016-05-06 18:14:52       0.00      0.00         18     Friday   \n",
       "5241660 2016-05-06 18:14:52       0.00      0.00         18     Friday   \n",
       "5241661 2016-05-01 12:51:37       0.00      0.00         12     Sunday   \n",
       "5241662 2016-05-01 12:51:37       0.00      0.00         12     Sunday   \n",
       "5241752 2016-05-02 18:39:10     116.42     39.78         18     Monday   \n",
       "5241753 2016-05-02 18:39:10     116.42     39.78         18     Monday   \n",
       "5241754 2016-05-02 18:39:10     116.42     39.78         18     Monday   \n",
       "5241755 2016-05-02 18:39:10     116.42     39.78         18     Monday   \n",
       "5241756 2016-05-02 18:39:10     116.42     39.78         18     Monday   \n",
       "5241912 2016-05-05 15:40:36       0.00      0.00         15   Thursday   \n",
       "5241913 2016-05-05 15:40:36       0.00      0.00         15   Thursday   \n",
       "5241914 2016-05-05 15:40:36       0.00      0.00         15   Thursday   \n",
       "5241915 2016-05-05 15:40:36       0.00      0.00         15   Thursday   \n",
       "\n",
       "         label_id                  category  \n",
       "0             959                 financial  \n",
       "1             960                       P2P  \n",
       "2             548              Industry tag  \n",
       "3            1007              P2P net loan  \n",
       "4             959                 financial  \n",
       "441           721  Personal Effectiveness 1  \n",
       "442           704     Property Industry 2.0  \n",
       "443           548              Industry tag  \n",
       "444           232                     notes  \n",
       "445           549     Property Industry 1.0  \n",
       "510           302                   unknown  \n",
       "511           303                   unknown  \n",
       "512           251                   Finance  \n",
       "513           263          Debit and credit  \n",
       "514           306                   unknown  \n",
       "551           959                 financial  \n",
       "552           960                       P2P  \n",
       "553           548              Industry tag  \n",
       "554          1007              P2P net loan  \n",
       "555           714                    1 free  \n",
       "676           549     Property Industry 1.0  \n",
       "677           714                    1 free  \n",
       "678           723                    Cozy 1  \n",
       "679           548              Industry tag  \n",
       "680           704     Property Industry 2.0  \n",
       "783           870    Personal Effectiveness  \n",
       "784           854     Property Industry new  \n",
       "785           548              Industry tag  \n",
       "786           549     Property Industry 1.0  \n",
       "787           714                    1 free  \n",
       "...           ...                       ...  \n",
       "5241424       548              Industry tag  \n",
       "5241432       251                   Finance  \n",
       "5241433       259           Precious Metals  \n",
       "5241434       306                   unknown  \n",
       "5241435       302                   unknown  \n",
       "5241436      1019       Internet Securities  \n",
       "5241605       712                  Nature 1  \n",
       "5241606       721  Personal Effectiveness 1  \n",
       "5241607       548              Industry tag  \n",
       "5241608       704     Property Industry 2.0  \n",
       "5241609       548              Industry tag  \n",
       "5241631       549     Property Industry 1.0  \n",
       "5241632       714                    1 free  \n",
       "5241633       723                    Cozy 1  \n",
       "5241634       548              Industry tag  \n",
       "5241635       704     Property Industry 2.0  \n",
       "5241658       713                Services 1  \n",
       "5241659       704     Property Industry 2.0  \n",
       "5241660       548              Industry tag  \n",
       "5241661       549     Property Industry 1.0  \n",
       "5241662       713                Services 1  \n",
       "5241752       712                  Nature 1  \n",
       "5241753       721  Personal Effectiveness 1  \n",
       "5241754       548              Industry tag  \n",
       "5241755       704     Property Industry 2.0  \n",
       "5241756       714                    1 free  \n",
       "5241912       220                  Calendar  \n",
       "5241913       230                Scheduling  \n",
       "5241914       548              Industry tag  \n",
       "5241915       549     Property Industry 1.0  \n",
       "\n",
       "[299435 rows x 11 columns]"
      ]
     },
     "execution_count": 123,
     "metadata": {},
     "output_type": "execute_result"
    }
   ],
   "source": [
    "g.head()"
   ]
  },
  {
   "cell_type": "code",
   "execution_count": 124,
   "metadata": {
    "collapsed": true
   },
   "outputs": [],
   "source": [
    "device_categories = g.category.nunique().to_frame().reset_index()"
   ]
  },
  {
   "cell_type": "code",
   "execution_count": 125,
   "metadata": {
    "collapsed": false
   },
   "outputs": [
    {
     "data": {
      "text/html": [
       "<div>\n",
       "<table border=\"1\" class=\"dataframe\">\n",
       "  <thead>\n",
       "    <tr style=\"text-align: right;\">\n",
       "      <th></th>\n",
       "      <th>device_id</th>\n",
       "      <th>category</th>\n",
       "    </tr>\n",
       "  </thead>\n",
       "  <tbody>\n",
       "    <tr>\n",
       "      <th>0</th>\n",
       "      <td>-9222956879900151005</td>\n",
       "      <td>52</td>\n",
       "    </tr>\n",
       "    <tr>\n",
       "      <th>1</th>\n",
       "      <td>-9222661944218806987</td>\n",
       "      <td>31</td>\n",
       "    </tr>\n",
       "    <tr>\n",
       "      <th>2</th>\n",
       "      <td>-9222399302879214035</td>\n",
       "      <td>25</td>\n",
       "    </tr>\n",
       "    <tr>\n",
       "      <th>3</th>\n",
       "      <td>-9221825537663503111</td>\n",
       "      <td>46</td>\n",
       "    </tr>\n",
       "    <tr>\n",
       "      <th>4</th>\n",
       "      <td>-9221767098072603291</td>\n",
       "      <td>42</td>\n",
       "    </tr>\n",
       "  </tbody>\n",
       "</table>\n",
       "</div>"
      ],
      "text/plain": [
       "             device_id  category\n",
       "0 -9222956879900151005        52\n",
       "1 -9222661944218806987        31\n",
       "2 -9222399302879214035        25\n",
       "3 -9221825537663503111        46\n",
       "4 -9221767098072603291        42"
      ]
     },
     "execution_count": 125,
     "metadata": {},
     "output_type": "execute_result"
    }
   ],
   "source": [
    "device_categories.head()"
   ]
  },
  {
   "cell_type": "code",
   "execution_count": 126,
   "metadata": {
    "collapsed": false
   },
   "outputs": [
    {
     "data": {
      "text/html": [
       "<div>\n",
       "<table border=\"1\" class=\"dataframe\">\n",
       "  <thead>\n",
       "    <tr style=\"text-align: right;\">\n",
       "      <th></th>\n",
       "      <th>device_id</th>\n",
       "      <th>category</th>\n",
       "    </tr>\n",
       "  </thead>\n",
       "  <tbody>\n",
       "    <tr>\n",
       "      <th>count</th>\n",
       "      <td>6.066900e+04</td>\n",
       "      <td>60669.000000</td>\n",
       "    </tr>\n",
       "    <tr>\n",
       "      <th>mean</th>\n",
       "      <td>-1.655896e+16</td>\n",
       "      <td>31.354794</td>\n",
       "    </tr>\n",
       "    <tr>\n",
       "      <th>std</th>\n",
       "      <td>5.333714e+18</td>\n",
       "      <td>20.745542</td>\n",
       "    </tr>\n",
       "    <tr>\n",
       "      <th>min</th>\n",
       "      <td>-9.222957e+18</td>\n",
       "      <td>1.000000</td>\n",
       "    </tr>\n",
       "    <tr>\n",
       "      <th>25%</th>\n",
       "      <td>-4.668856e+18</td>\n",
       "      <td>15.000000</td>\n",
       "    </tr>\n",
       "    <tr>\n",
       "      <th>50%</th>\n",
       "      <td>-1.471330e+16</td>\n",
       "      <td>27.000000</td>\n",
       "    </tr>\n",
       "    <tr>\n",
       "      <th>75%</th>\n",
       "      <td>4.609620e+18</td>\n",
       "      <td>45.000000</td>\n",
       "    </tr>\n",
       "    <tr>\n",
       "      <th>max</th>\n",
       "      <td>9.222540e+18</td>\n",
       "      <td>332.000000</td>\n",
       "    </tr>\n",
       "  </tbody>\n",
       "</table>\n",
       "</div>"
      ],
      "text/plain": [
       "          device_id      category\n",
       "count  6.066900e+04  60669.000000\n",
       "mean  -1.655896e+16     31.354794\n",
       "std    5.333714e+18     20.745542\n",
       "min   -9.222957e+18      1.000000\n",
       "25%   -4.668856e+18     15.000000\n",
       "50%   -1.471330e+16     27.000000\n",
       "75%    4.609620e+18     45.000000\n",
       "max    9.222540e+18    332.000000"
      ]
     },
     "execution_count": 126,
     "metadata": {},
     "output_type": "execute_result"
    }
   ],
   "source": [
    "device_categories.describe()"
   ]
  },
  {
   "cell_type": "markdown",
   "metadata": {},
   "source": [
    "We perform some data manipulation to get the number of categories for each device. After succesffuly performing some data wrangling, we can see that 75% of devices have at most 45 categories. Maximum categories per device which are basically the outliers has 332 categories. Each user has an average of 31 categories on their device. "
   ]
  },
  {
   "cell_type": "code",
   "execution_count": 127,
   "metadata": {
    "collapsed": false
   },
   "outputs": [],
   "source": [
    "brand_count=phone_brand_device.phone_brand.value_counts().head()"
   ]
  },
  {
   "cell_type": "code",
   "execution_count": 128,
   "metadata": {
    "collapsed": true
   },
   "outputs": [],
   "source": [
    "phone_brand_merge=train.merge(phone_brand_device)"
   ]
  },
  {
   "cell_type": "code",
   "execution_count": 129,
   "metadata": {
    "collapsed": false
   },
   "outputs": [
    {
     "data": {
      "text/html": [
       "<div>\n",
       "<table border=\"1\" class=\"dataframe\">\n",
       "  <thead>\n",
       "    <tr style=\"text-align: right;\">\n",
       "      <th></th>\n",
       "      <th>device_id</th>\n",
       "      <th>gender</th>\n",
       "      <th>age</th>\n",
       "      <th>group</th>\n",
       "      <th>phone_brand</th>\n",
       "      <th>device_model</th>\n",
       "    </tr>\n",
       "  </thead>\n",
       "  <tbody>\n",
       "    <tr>\n",
       "      <th>0</th>\n",
       "      <td>-8076087639492063270</td>\n",
       "      <td>M</td>\n",
       "      <td>35</td>\n",
       "      <td>M32-38</td>\n",
       "      <td>Xiaomi</td>\n",
       "      <td>MI 2</td>\n",
       "    </tr>\n",
       "    <tr>\n",
       "      <th>1</th>\n",
       "      <td>-2897161552818060146</td>\n",
       "      <td>M</td>\n",
       "      <td>35</td>\n",
       "      <td>M32-38</td>\n",
       "      <td>Xiaomi</td>\n",
       "      <td>MI 2</td>\n",
       "    </tr>\n",
       "    <tr>\n",
       "      <th>2</th>\n",
       "      <td>-8260683887967679142</td>\n",
       "      <td>M</td>\n",
       "      <td>35</td>\n",
       "      <td>M32-38</td>\n",
       "      <td>Xiaomi</td>\n",
       "      <td>MI 2</td>\n",
       "    </tr>\n",
       "    <tr>\n",
       "      <th>3</th>\n",
       "      <td>-4938849341048082022</td>\n",
       "      <td>M</td>\n",
       "      <td>30</td>\n",
       "      <td>M29-31</td>\n",
       "      <td>Xiaomi</td>\n",
       "      <td>红米note</td>\n",
       "    </tr>\n",
       "    <tr>\n",
       "      <th>4</th>\n",
       "      <td>245133531816851882</td>\n",
       "      <td>M</td>\n",
       "      <td>30</td>\n",
       "      <td>M29-31</td>\n",
       "      <td>Xiaomi</td>\n",
       "      <td>MI 3</td>\n",
       "    </tr>\n",
       "  </tbody>\n",
       "</table>\n",
       "</div>"
      ],
      "text/plain": [
       "             device_id gender  age   group phone_brand device_model\n",
       "0 -8076087639492063270      M   35  M32-38      Xiaomi         MI 2\n",
       "1 -2897161552818060146      M   35  M32-38      Xiaomi         MI 2\n",
       "2 -8260683887967679142      M   35  M32-38      Xiaomi         MI 2\n",
       "3 -4938849341048082022      M   30  M29-31      Xiaomi       红米note\n",
       "4   245133531816851882      M   30  M29-31      Xiaomi         MI 3"
      ]
     },
     "execution_count": 129,
     "metadata": {},
     "output_type": "execute_result"
    }
   ],
   "source": [
    "phone_brand_merge.head()"
   ]
  },
  {
   "cell_type": "code",
   "execution_count": 130,
   "metadata": {
    "collapsed": false
   },
   "outputs": [],
   "source": [
    "top5_brands = np.array(brand_count.index)"
   ]
  },
  {
   "cell_type": "code",
   "execution_count": 131,
   "metadata": {
    "collapsed": false
   },
   "outputs": [],
   "source": [
    "top5_brands_df=phone_brand_merge[phone_brand_merge.phone_brand.isin(top5_brands)]"
   ]
  },
  {
   "cell_type": "code",
   "execution_count": 132,
   "metadata": {
    "collapsed": false,
    "scrolled": false
   },
   "outputs": [
    {
     "data": {
      "text/plain": [
       "<matplotlib.axes._subplots.AxesSubplot at 0x125940b70>"
      ]
     },
     "execution_count": 132,
     "metadata": {},
     "output_type": "execute_result"
    },
    {
     "data": {
      "image/png": "[encoded data removed]",
      "text/plain": [
       "<matplotlib.figure.Figure at 0x1560fd9b0>"
      ]
     },
     "metadata": {},
     "output_type": "display_data"
    }
   ],
   "source": [
    "sns.countplot(y=\"phone_brand\", hue=\"gender\", data=top5_brands_df)"
   ]
  },
  {
   "cell_type": "markdown",
   "metadata": {
    "collapsed": false
   },
   "source": [
    "We perform a merge operation to see the popular phone brands of all the users. The top 5 brands of the Talkingdata users are Xiaomi, OPPO, Vivo, Samsung and Huawei. We can further see that the number of males in the top three phone brands i.e. Xiomi, Samsung and Huawei are twice as much as the number of females for these brands."
   ]
  },
  {
   "cell_type": "code",
   "execution_count": null,
   "metadata": {
    "collapsed": true
   },
   "outputs": [],
   "source": []
  },
  {
   "cell_type": "code",
   "execution_count": null,
   "metadata": {
    "collapsed": true
   },
   "outputs": [],
   "source": []
  },
  {
   "cell_type": "code",
   "execution_count": null,
   "metadata": {
    "collapsed": true
   },
   "outputs": [],
   "source": []
  },
  {
   "cell_type": "code",
   "execution_count": null,
   "metadata": {
    "collapsed": true
   },
   "outputs": [],
   "source": []
  },
  {
   "cell_type": "code",
   "execution_count": null,
   "metadata": {
    "collapsed": true
   },
   "outputs": [],
   "source": []
  },
  {
   "cell_type": "code",
   "execution_count": null,
   "metadata": {
    "collapsed": true
   },
   "outputs": [],
   "source": []
  },
  {
   "cell_type": "code",
   "execution_count": null,
   "metadata": {
    "collapsed": true
   },
   "outputs": [],
   "source": []
  },
  {
   "cell_type": "code",
   "execution_count": null,
   "metadata": {
    "collapsed": true
   },
   "outputs": [],
   "source": []
  },
  {
   "cell_type": "code",
   "execution_count": null,
   "metadata": {
    "collapsed": true
   },
   "outputs": [],
   "source": []
  },
  {
   "cell_type": "code",
   "execution_count": null,
   "metadata": {
    "collapsed": true
   },
   "outputs": [],
   "source": []
  },
  {
   "cell_type": "code",
   "execution_count": null,
   "metadata": {
    "collapsed": true
   },
   "outputs": [],
   "source": []
  },
  {
   "cell_type": "code",
   "execution_count": null,
   "metadata": {
    "collapsed": true
   },
   "outputs": [],
   "source": []
  },
  {
   "cell_type": "code",
   "execution_count": null,
   "metadata": {
    "collapsed": true
   },
   "outputs": [],
   "source": []
  },
  {
   "cell_type": "code",
   "execution_count": null,
   "metadata": {
    "collapsed": true
   },
   "outputs": [],
   "source": []
  },
  {
   "cell_type": "code",
   "execution_count": null,
   "metadata": {
    "collapsed": true
   },
   "outputs": [],
   "source": []
  },
  {
   "cell_type": "code",
   "execution_count": null,
   "metadata": {
    "collapsed": true
   },
   "outputs": [],
   "source": []
  },
  {
   "cell_type": "code",
   "execution_count": null,
   "metadata": {
    "collapsed": true
   },
   "outputs": [],
   "source": []
  },
  {
   "cell_type": "code",
   "execution_count": null,
   "metadata": {
    "collapsed": true
   },
   "outputs": [],
   "source": []
  }
 ],
 "metadata": {
  "anaconda-cloud": {},
  "kernelspec": {
   "display_name": "Python [Root]",
   "language": "python",
   "name": "Python [Root]"
  },
  "language_info": {
   "codemirror_mode": {
    "name": "ipython",
    "version": 3
   },
   "file_extension": ".py",
   "mimetype": "text/x-python",
   "name": "python",
   "nbconvert_exporter": "python",
   "pygments_lexer": "ipython3",
   "version": "3.5.1"
  }
 },
 "nbformat": 4,
 "nbformat_minor": 0
}
